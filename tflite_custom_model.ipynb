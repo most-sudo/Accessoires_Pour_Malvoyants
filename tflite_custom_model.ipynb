

%env PYTHONPATH = # /env/python
     
env: PYTHONPATH=# /env/python

!wget https://repo.anaconda.com/miniconda/Miniconda3-py39_23.3.1-0-Linux-x86_64.sh
!chmod +x Miniconda3-py39_23.3.1-0-Linux-x86_64.sh
!./Miniconda3-py39_23.3.1-0-Linux-x86_64.sh -b -f -p /usr/local
!conda update conda

     
--2023-10-06 04:50:20--  https://repo.anaconda.com/miniconda/Miniconda3-py39_23.3.1-0-Linux-x86_64.sh
Resolving repo.anaconda.com (repo.anaconda.com)... 104.16.131.3, 104.16.130.3, 2606:4700::6810:8303, ...
Connecting to repo.anaconda.com (repo.anaconda.com)|104.16.131.3|:443... connected.
HTTP request sent, awaiting response... 200 OK
Length: 70605094 (67M) [application/x-sh]
Saving to: ‘Miniconda3-py39_23.3.1-0-Linux-x86_64.sh’

Miniconda3-py39_23. 100%[===================>]  67.33M   157MB/s    in 0.4s    

2023-10-06 04:50:20 (157 MB/s) - ‘Miniconda3-py39_23.3.1-0-Linux-x86_64.sh’ saved [70605094/70605094]

PREFIX=/usr/local
Unpacking payload ...
                                                                                    
Installing base environment...


Downloading and Extracting Packages


Downloading and Extracting Packages

Preparing transaction: - \ | / done
Executing transaction: \ | / - \ | / - \ | / - \ | / - \ | / - \ done
installation finished.
WARNING:
    You currently have a PYTHONPATH environment variable set. This may cause
    unexpected behavior when running the Python interpreter in Miniconda3.
    For best results, please verify that your PYTHONPATH only points to
    directories of packages that are compatible with the Python interpreter
    in Miniconda3: /usr/local
Collecting package metadata (current_repodata.json): - \ | / - \ | / - \ | / - \ | / - \ | / - \ | / - \ | / - \ | done
Solving environment: - \ | / - \ | / - \ | / - \ | / - \ | / done

## Package Plan ##

  environment location: /usr/local

  added / updated specs:
    - conda


The following packages will be downloaded:

    package                    |            build
    ---------------------------|-----------------
    ca-certificates-2023.08.22 |       h06a4308_0         123 KB
    certifi-2023.7.22          |   py39h06a4308_0         153 KB
    conda-23.9.0               |   py39h06a4308_0         972 KB
    conda-package-handling-2.2.0|   py39h06a4308_0         267 KB
    conda-package-streaming-0.9.0|   py39h06a4308_0          27 KB
    cryptography-41.0.3        |   py39hdda0065_0         2.0 MB
    libffi-3.4.4               |       h6a678d5_0         142 KB
    openssl-3.0.11             |       h7f8727e_2         5.2 MB
    packaging-23.1             |   py39h06a4308_0          77 KB
    pycosat-0.6.6              |   py39h5eee18b_0          94 KB
    pyopenssl-23.2.0           |   py39h06a4308_0          96 KB
    python-3.9.18              |       h955ad1f_0        25.1 MB
    requests-2.31.0            |   py39h06a4308_0          96 KB
    sqlite-3.41.2              |       h5eee18b_0         1.2 MB
    urllib3-1.26.16            |   py39h06a4308_0         201 KB
    xz-5.4.2                   |       h5eee18b_0         642 KB
    ------------------------------------------------------------
                                           Total:        36.2 MB

The following packages will be REMOVED:

  toolz-0.12.0-py39h06a4308_0

The following packages will be UPDATED:

  ca-certificates                     2023.01.10-h06a4308_0 --> 2023.08.22-h06a4308_0 
  certifi                          2022.12.7-py39h06a4308_0 --> 2023.7.22-py39h06a4308_0 
  conda                               23.3.1-py39h06a4308_0 --> 23.9.0-py39h06a4308_0 
  conda-package-han~                   2.0.2-py39h06a4308_0 --> 2.2.0-py39h06a4308_0 
  conda-package-str~                   0.7.0-py39h06a4308_0 --> 0.9.0-py39h06a4308_0 
  cryptography                        39.0.1-py39h9ce1e76_0 --> 41.0.3-py39hdda0065_0 
  libffi                                   3.4.2-h6a678d5_6 --> 3.4.4-h6a678d5_0 
  openssl                                 1.1.1t-h7f8727e_0 --> 3.0.11-h7f8727e_2 
  packaging                             23.0-py39h06a4308_0 --> 23.1-py39h06a4308_0 
  pycosat                              0.6.4-py39h5eee18b_0 --> 0.6.6-py39h5eee18b_0 
  pyopenssl                           23.0.0-py39h06a4308_0 --> 23.2.0-py39h06a4308_0 
  python                                  3.9.16-h7a1cb2a_2 --> 3.9.18-h955ad1f_0 
  requests                            2.28.1-py39h06a4308_1 --> 2.31.0-py39h06a4308_0 
  sqlite                                  3.41.1-h5eee18b_0 --> 3.41.2-h5eee18b_0 
  urllib3                            1.26.15-py39h06a4308_0 --> 1.26.16-py39h06a4308_0 
  xz                                      5.2.10-h5eee18b_1 --> 5.4.2-h5eee18b_0 


Proceed ([y]/n)? y


Downloading and Extracting Packages
libffi-3.4.4         | 142 KB    | :   0% 0/1 [00:00<?, ?it/s]
xz-5.4.2             | 642 KB    | :   0% 0/1 [00:00<?, ?it/s]

python-3.9.18        | 25.1 MB   | :   0% 0/1 [00:00<?, ?it/s]


pyopenssl-23.2.0     | 96 KB     | :   0% 0/1 [00:00<?, ?it/s]



conda-23.9.0         | 972 KB    | :   0% 0/1 [00:00<?, ?it/s]




urllib3-1.26.16      | 201 KB    | :   0% 0/1 [00:00<?, ?it/s]





packaging-23.1       | 77 KB     | :   0% 0/1 [00:00<?, ?it/s]






sqlite-3.41.2        | 1.2 MB    | :   0% 0/1 [00:00<?, ?it/s]







openssl-3.0.11       | 5.2 MB    | :   0% 0/1 [00:00<?, ?it/s]








ca-certificates-2023 | 123 KB    | :   0% 0/1 [00:00<?, ?it/s]









certifi-2023.7.22    | 153 KB    | :   0% 0/1 [00:00<?, ?it/s]










conda-package-stream | 27 KB     | :   0% 0/1 [00:00<?, ?it/s]











conda-package-handli | 267 KB    | :   0% 0/1 [00:00<?, ?it/s]












requests-2.31.0      | 96 KB     | :   0% 0/1 [00:00<?, ?it/s]













cryptography-41.0.3  | 2.0 MB    | :   0% 0/1 [00:00<?, ?it/s]














libffi-3.4.4         | 142 KB    | :  23% 0.22542032415178448/1 [00:00<00:00,  2.21it/s]
xz-5.4.2             | 642 KB    | :   2% 0.024932699667797344/1 [00:00<00:03,  4.06s/it]


pyopenssl-23.2.0     | 96 KB     | :  33% 0.3330148986768024/1 [00:00<00:00,  3.20it/s]



conda-23.9.0         | 972 KB    | :   3% 0.0329147008215617/1 [00:00<00:03,  3.12s/it]

python-3.9.18        | 25.1 MB   | :   0% 0.0024945542961614066/1 [00:00<00:43, 43.38s/it]




urllib3-1.26.16      | 201 KB    | :   8% 0.07973603013461295/1 [00:00<00:01,  1.80s/it]





packaging-23.1       | 77 KB     | :  21% 0.20801645442657085/1 [00:00<00:00,  1.41it/s]






sqlite-3.41.2        | 1.2 MB    | :   1% 0.013323043970761513/1 [00:00<00:13, 13.57s/it]







openssl-3.0.11       | 5.2 MB    | :   0% 0.0030038040729192506/1 [00:00<01:00, 60.40s/it]








ca-certificates-2023 | 123 KB    | :  13% 0.1305622848399847/1 [00:00<00:01,  1.43s/it]









certifi-2023.7.22    | 153 KB    | :  10% 0.10460186934981358/1 [00:00<00:01,  1.82s/it]

python-3.9.18        | 25.1 MB   | :   5% 0.05363291736747024/1 [00:00<00:03,  3.40s/it]  










conda-package-stream | 27 KB     | :  59% 0.5901592104315251/1 [00:00<00:00,  2.70it/s]


pyopenssl-23.2.0     | 96 KB     | : 100% 1.0/1 [00:00<00:00,  4.18it/s]               


pyopenssl-23.2.0     | 96 KB     | : 100% 1.0/1 [00:00<00:00,  4.18it/s]












requests-2.31.0      | 96 KB     | :  17% 0.1667837328854278/1 [00:00<00:01,  1.47s/it]











conda-package-handli | 267 KB    | :   6% 0.05985481991312576/1 [00:00<00:04,  4.35s/it]













cryptography-41.0.3  | 2.0 MB    | :   1% 0.00791133739458954/1 [00:00<00:34, 35.13s/it]







openssl-3.0.11       | 5.2 MB    | :  37% 0.37247170504198707/1 [00:00<00:00,  1.63it/s]  














pycosat-0.6.6        | 94 KB     | :  17% 0.1709123531743548/1 [00:00<00:01,  1.72s/it]

python-3.9.18        | 25.1 MB   | :  13% 0.13096410054847382/1 [00:00<00:01,  1.99s/it]







openssl-3.0.11       | 5.2 MB    | :  77% 0.7689738426673282/1 [00:00<00:00,  2.53it/s] 

python-3.9.18        | 25.1 MB   | :  23% 0.23136991096897044/1 [00:00<00:01,  1.44s/it]

libffi-3.4.4         | 142 KB    | : 100% 1.0/1 [00:00<00:00,  1.65it/s]

python-3.9.18        | 25.1 MB   | :  47% 0.466481653382183/1 [00:00<00:00,  1.03s/it] 
xz-5.4.2             | 642 KB    | : 100% 1.0/1 [00:00<00:00,  1.63it/s]                 
xz-5.4.2             | 642 KB    | : 100% 1.0/1 [00:00<00:00,  1.63it/s]





packaging-23.1       | 77 KB     | : 100% 1.0/1 [00:00<00:00,  1.51it/s]                





packaging-23.1       | 77 KB     | : 100% 1.0/1 [00:00<00:00,  1.51it/s]

python-3.9.18        | 25.1 MB   | :  64% 0.6361113455211587/1 [00:00<00:00,  1.20it/s]




urllib3-1.26.16      | 201 KB    | : 100% 1.0/1 [00:00<00:00,  1.35it/s]                




urllib3-1.26.16      | 201 KB    | : 100% 1.0/1 [00:00<00:00,  1.35it/s]








ca-certificates-2023 | 123 KB    | : 100% 1.0/1 [00:00<00:00,  1.30it/s]               








ca-certificates-2023 | 123 KB    | : 100% 1.0/1 [00:00<00:00,  1.30it/s]

python-3.9.18        | 25.1 MB   | :  77% 0.7745591089581166/1 [00:00<00:00,  1.26it/s]









certifi-2023.7.22    | 153 KB    | : 100% 1.0/1 [00:00<00:00,  1.22it/s]                









certifi-2023.7.22    | 153 KB    | : 100% 1.0/1 [00:00<00:00,  1.22it/s]










conda-package-stream | 27 KB     | : 100% 1.0/1 [00:00<00:00,  1.01it/s]               










conda-package-stream | 27 KB     | : 100% 1.0/1 [00:00<00:00,  1.01it/s]

python-3.9.18        | 25.1 MB   | :  90% 0.901157739488308/1 [00:00<00:00,  1.20it/s] 












requests-2.31.0      | 96 KB     | : 100% 1.0/1 [00:00<00:00,  1.09it/s]               












requests-2.31.0      | 96 KB     | : 100% 1.0/1 [00:00<00:00,  1.09it/s]






sqlite-3.41.2        | 1.2 MB    | : 100% 1.0/1 [00:01<00:00,  1.04it/s]                 






sqlite-3.41.2        | 1.2 MB    | : 100% 1.0/1 [00:01<00:00,  1.04it/s]











conda-package-handli | 267 KB    | : 100% 1.0/1 [00:01<00:00,  1.01s/it]                











conda-package-handli | 267 KB    | : 100% 1.0/1 [00:01<00:00,  1.01s/it]














pycosat-0.6.6        | 94 KB     | : 100% 1.0/1 [00:01<00:00,  1.07s/it]               














pycosat-0.6.6        | 94 KB     | : 100% 1.0/1 [00:01<00:00,  1.07s/it]



conda-23.9.0         | 972 KB    | : 100% 1.0/1 [00:01<00:00,  1.15s/it]               



conda-23.9.0         | 972 KB    | : 100% 1.0/1 [00:01<00:00,  1.15s/it]













cryptography-41.0.3  | 2.0 MB    | : 100% 1.0/1 [00:01<00:00,  1.27s/it]                













cryptography-41.0.3  | 2.0 MB    | : 100% 1.0/1 [00:01<00:00,  1.27s/it]







openssl-3.0.11       | 5.2 MB    | : 100% 1.0/1 [00:01<00:00,  2.53it/s]               

                                                                        
                                                                        

                                                                        


                                                                        



                                                                        




                                                                        





                                                                        






                                                                        







                                                                        








                                                                        









                                                                        










                                                                        











                                                                        












                                                                        













                                                                        














                                                                        
Preparing transaction: \ | done
Verifying transaction: - \ | / - \ | / done
Executing transaction: \ | / - \ done

import sys
sys.path.append('/usr/local/lib/python3.9/site-packages')

     

!conda create -n myenv python=3.9

     
Collecting package metadata (current_repodata.json): - \ | / - \ | / - \ | / - \ | / - \ | / - \ | / done
Solving environment: \ done

## Package Plan ##

  environment location: /usr/local/envs/myenv

  added / updated specs:
    - python=3.9


The following packages will be downloaded:

    package                    |            build
    ---------------------------|-----------------
    pip-23.2.1                 |   py39h06a4308_0         2.6 MB
    setuptools-68.0.0          |   py39h06a4308_0         928 KB
    wheel-0.41.2               |   py39h06a4308_0         108 KB
    ------------------------------------------------------------
                                           Total:         3.6 MB

The following NEW packages will be INSTALLED:

  _libgcc_mutex      pkgs/main/linux-64::_libgcc_mutex-0.1-main 
  _openmp_mutex      pkgs/main/linux-64::_openmp_mutex-5.1-1_gnu 
  ca-certificates    pkgs/main/linux-64::ca-certificates-2023.08.22-h06a4308_0 
  ld_impl_linux-64   pkgs/main/linux-64::ld_impl_linux-64-2.38-h1181459_1 
  libffi             pkgs/main/linux-64::libffi-3.4.4-h6a678d5_0 
  libgcc-ng          pkgs/main/linux-64::libgcc-ng-11.2.0-h1234567_1 
  libgomp            pkgs/main/linux-64::libgomp-11.2.0-h1234567_1 
  libstdcxx-ng       pkgs/main/linux-64::libstdcxx-ng-11.2.0-h1234567_1 
  ncurses            pkgs/main/linux-64::ncurses-6.4-h6a678d5_0 
  openssl            pkgs/main/linux-64::openssl-3.0.11-h7f8727e_2 
  pip                pkgs/main/linux-64::pip-23.2.1-py39h06a4308_0 
  python             pkgs/main/linux-64::python-3.9.18-h955ad1f_0 
  readline           pkgs/main/linux-64::readline-8.2-h5eee18b_0 
  setuptools         pkgs/main/linux-64::setuptools-68.0.0-py39h06a4308_0 
  sqlite             pkgs/main/linux-64::sqlite-3.41.2-h5eee18b_0 
  tk                 pkgs/main/linux-64::tk-8.6.12-h1ccaba5_0 
  tzdata             pkgs/main/noarch::tzdata-2023c-h04d1e81_0 
  wheel              pkgs/main/linux-64::wheel-0.41.2-py39h06a4308_0 
  xz                 pkgs/main/linux-64::xz-5.4.2-h5eee18b_0 
  zlib               pkgs/main/linux-64::zlib-1.2.13-h5eee18b_0 


Proceed ([y]/n)? y


Downloading and Extracting Packages:
wheel-0.41.2         | 108 KB    | :   0% 0/1 [00:00<?, ?it/s]
pip-23.2.1           | 2.6 MB    | :   0% 0/1 [00:00<?, ?it/s]

wheel-0.41.2         | 108 KB    | :  15% 0.14851206932496985/1 [00:00<00:00,  1.13s/it]
pip-23.2.1           | 2.6 MB    | :   1% 0.0060527316165455616/1 [00:00<00:29, 29.20s/it]

setuptools-68.0.0    | 928 KB    | :   2% 0.017250274273464858/1 [00:00<00:10, 10.56s/it]
wheel-0.41.2         | 108 KB    | : 100% 1.0/1 [00:00<00:00,  4.12it/s]

setuptools-68.0.0    | 928 KB    | : 100% 1.0/1 [00:00<00:00,  1.47it/s]                 

setuptools-68.0.0    | 928 KB    | : 100% 1.0/1 [00:00<00:00,  1.47it/s]
                                                                        
                                                                        

                                                                        
Preparing transaction: / - \ | done
Verifying transaction: - \ | / - \ | / - \ | / - \ | done
Executing transaction: - \ | / - \ | / done
#
# To activate this environment, use
#
#     $ conda activate myenv
#
# To deactivate an active environment, use
#
#     $ conda deactivate


%%shell
eval "$(conda shell.bash hook)"
conda activate myenv
pip install tflite-model-maker

     
Collecting tflite-model-maker
  Downloading tflite_model_maker-0.4.2-py3-none-any.whl (577 kB)
     ━━━━━━━━━━━━━━━━━━━━━━━━━━━━━━━━━━━━━━━━ 0.0/577.3 kB ? eta -:--:--
     ━━━━━━━━━━━━━━━━━━━╺━━━━━━━━━━━━━━━━━━━ 286.7/577.3 kB 8.5 MB/s eta 0:00:01
     ━━━━━━━━━━━━━━━━━━━━━━━━━━━━━━━━━━━━━━ 577.3/577.3 kB 11.0 MB/s eta 0:00:00
Collecting tf-models-official==2.3.0 (from tflite-model-maker)
  Downloading tf_models_official-2.3.0-py2.py3-none-any.whl (840 kB)
     ━━━━━━━━━━━━━━━━━━━━━━━━━━━━━━━━━━━━━━ 840.9/840.9 kB 42.0 MB/s eta 0:00:00
Collecting numpy>=1.17.3 (from tflite-model-maker)
  Obtaining dependency information for numpy>=1.17.3 from https://files.pythonhosted.org/packages/75/cd/7ae0f2cd3fc68aea6cfb2b7e523842e1fa953adb38efabc110d27ba6e423/numpy-1.26.0-cp39-cp39-manylinux_2_17_x86_64.manylinux2014_x86_64.whl.metadata
  Downloading numpy-1.26.0-cp39-cp39-manylinux_2_17_x86_64.manylinux2014_x86_64.whl.metadata (58 kB)
     ━━━━━━━━━━━━━━━━━━━━━━━━━━━━━━━━━━━━━━━━ 58.5/58.5 kB 6.9 MB/s eta 0:00:00
Collecting pillow>=7.0.0 (from tflite-model-maker)
  Obtaining dependency information for pillow>=7.0.0 from https://files.pythonhosted.org/packages/0a/20/a94a0462495de73e248643fb24667270f2e67f44792456ab7207764e80cc/Pillow-10.0.1-cp39-cp39-manylinux_2_28_x86_64.whl.metadata
  Downloading Pillow-10.0.1-cp39-cp39-manylinux_2_28_x86_64.whl.metadata (9.5 kB)
Collecting sentencepiece>=0.1.91 (from tflite-model-maker)
  Downloading sentencepiece-0.1.99-cp39-cp39-manylinux_2_17_x86_64.manylinux2014_x86_64.whl (1.3 MB)
     ━━━━━━━━━━━━━━━━━━━━━━━━━━━━━━━━━━━━━━━━ 1.3/1.3 MB 65.8 MB/s eta 0:00:00
Collecting tensorflow-datasets>=2.1.0 (from tflite-model-maker)
  Obtaining dependency information for tensorflow-datasets>=2.1.0 from https://files.pythonhosted.org/packages/a1/73/7a9ed7935f6833d73b32f1e2a1210082f5ccb95445440b4e2b0f66ab7792/tensorflow_datasets-4.9.3-py3-none-any.whl.metadata
  Downloading tensorflow_datasets-4.9.3-py3-none-any.whl.metadata (9.3 kB)
Collecting fire>=0.3.1 (from tflite-model-maker)
  Downloading fire-0.5.0.tar.gz (88 kB)
     ━━━━━━━━━━━━━━━━━━━━━━━━━━━━━━━━━━━━━━━━ 88.3/88.3 kB 12.2 MB/s eta 0:00:00
  Preparing metadata (setup.py) ... done
Collecting flatbuffers>=2.0 (from tflite-model-maker)
  Obtaining dependency information for flatbuffers>=2.0 from https://files.pythonhosted.org/packages/6f/12/d5c79ee252793ffe845d58a913197bfa02ae9a0b5c9bc3dc4b58d477b9e7/flatbuffers-23.5.26-py2.py3-none-any.whl.metadata
  Downloading flatbuffers-23.5.26-py2.py3-none-any.whl.metadata (850 bytes)
Collecting absl-py>=0.10.0 (from tflite-model-maker)
  Obtaining dependency information for absl-py>=0.10.0 from https://files.pythonhosted.org/packages/01/e4/dc0a1dcc4e74e08d7abedab278c795eef54a224363bb18f5692f416d834f/absl_py-2.0.0-py3-none-any.whl.metadata
  Downloading absl_py-2.0.0-py3-none-any.whl.metadata (2.3 kB)
Collecting urllib3!=1.25.0,!=1.25.1,<1.26,>=1.21.1 (from tflite-model-maker)
  Downloading urllib3-1.25.11-py2.py3-none-any.whl (127 kB)
     ━━━━━━━━━━━━━━━━━━━━━━━━━━━━━━━━━━━━━━ 128.0/128.0 kB 17.2 MB/s eta 0:00:00
Collecting tflite-support>=0.4.2 (from tflite-model-maker)
  Obtaining dependency information for tflite-support>=0.4.2 from https://files.pythonhosted.org/packages/68/d3/0528a2ec6de2d27f14b58bd15dc20c69df4770bc93b1cd0d71dcbb2399bf/tflite_support-0.4.4-cp39-cp39-manylinux2014_x86_64.whl.metadata
  Downloading tflite_support-0.4.4-cp39-cp39-manylinux2014_x86_64.whl.metadata (2.4 kB)
Collecting tensorflowjs<3.19.0,>=2.4.0 (from tflite-model-maker)
  Downloading tensorflowjs-3.18.0-py3-none-any.whl (77 kB)
     ━━━━━━━━━━━━━━━━━━━━━━━━━━━━━━━━━━━━━━━━ 77.5/77.5 kB 10.3 MB/s eta 0:00:00
Collecting tensorflow>=2.6.0 (from tflite-model-maker)
  Obtaining dependency information for tensorflow>=2.6.0 from https://files.pythonhosted.org/packages/81/16/3aaaf911d8309b9afb29bff97e819c52b011d4ab184c7b01cec92abd018a/tensorflow-2.14.0-cp39-cp39-manylinux_2_17_x86_64.manylinux2014_x86_64.whl.metadata
  Downloading tensorflow-2.14.0-cp39-cp39-manylinux_2_17_x86_64.manylinux2014_x86_64.whl.metadata (4.1 kB)
Collecting numba==0.53 (from tflite-model-maker)
  Downloading numba-0.53.0-cp39-cp39-manylinux2014_x86_64.whl (3.4 MB)
     ━━━━━━━━━━━━━━━━━━━━━━━━━━━━━━━━━━━━━━━━ 3.4/3.4 MB 103.2 MB/s eta 0:00:00
Collecting librosa==0.8.1 (from tflite-model-maker)
  Downloading librosa-0.8.1-py3-none-any.whl (203 kB)
     ━━━━━━━━━━━━━━━━━━━━━━━━━━━━━━━━━━━━━━ 203.8/203.8 kB 23.8 MB/s eta 0:00:00
Collecting lxml>=4.6.1 (from tflite-model-maker)
  Obtaining dependency information for lxml>=4.6.1 from https://files.pythonhosted.org/packages/c5/a2/7876f76606725340c989b1c73b5501fc41fb21e50a8597c9ecdb63a05b27/lxml-4.9.3-cp39-cp39-manylinux_2_28_x86_64.whl.metadata
  Downloading lxml-4.9.3-cp39-cp39-manylinux_2_28_x86_64.whl.metadata (3.8 kB)
Collecting PyYAML>=5.1 (from tflite-model-maker)
  Obtaining dependency information for PyYAML>=5.1 from https://files.pythonhosted.org/packages/7d/39/472f2554a0f1e825bd7c5afc11c817cd7a2f3657460f7159f691fbb37c51/PyYAML-6.0.1-cp39-cp39-manylinux_2_17_x86_64.manylinux2014_x86_64.whl.metadata
  Downloading PyYAML-6.0.1-cp39-cp39-manylinux_2_17_x86_64.manylinux2014_x86_64.whl.metadata (2.1 kB)
Collecting matplotlib<3.5.0,>=3.0.3 (from tflite-model-maker)
  Downloading matplotlib-3.4.3-cp39-cp39-manylinux1_x86_64.whl (10.3 MB)
     ━━━━━━━━━━━━━━━━━━━━━━━━━━━━━━━━━━━━━━━━ 10.3/10.3 MB 80.4 MB/s eta 0:00:00
Collecting six>=1.12.0 (from tflite-model-maker)
  Downloading six-1.16.0-py2.py3-none-any.whl (11 kB)
Collecting tensorflow-addons>=0.11.2 (from tflite-model-maker)
  Obtaining dependency information for tensorflow-addons>=0.11.2 from https://files.pythonhosted.org/packages/c5/77/28e090b43f802f321c07f6c553bdba79e5ce38fab784c2cd924ff28cfcb0/tensorflow_addons-0.21.0-cp39-cp39-manylinux_2_17_x86_64.manylinux2014_x86_64.whl.metadata
  Downloading tensorflow_addons-0.21.0-cp39-cp39-manylinux_2_17_x86_64.manylinux2014_x86_64.whl.metadata (1.8 kB)
Collecting neural-structured-learning>=1.3.1 (from tflite-model-maker)
  Downloading neural_structured_learning-1.4.0-py2.py3-none-any.whl (128 kB)
     ━━━━━━━━━━━━━━━━━━━━━━━━━━━━━━━━━━━━━━ 128.6/128.6 kB 16.0 MB/s eta 0:00:00
Collecting tensorflow-model-optimization>=0.5 (from tflite-model-maker)
  Obtaining dependency information for tensorflow-model-optimization>=0.5 from https://files.pythonhosted.org/packages/cf/8b/a63b45b3f53947bda130f5feb28e88d20b6b0306ed02150399e43356b057/tensorflow_model_optimization-0.7.5-py2.py3-none-any.whl.metadata
  Downloading tensorflow_model_optimization-0.7.5-py2.py3-none-any.whl.metadata (914 bytes)
Collecting Cython>=0.29.13 (from tflite-model-maker)
  Obtaining dependency information for Cython>=0.29.13 from https://files.pythonhosted.org/packages/51/81/a1b6c0fdc987b37ab3fc7c683b396b55746e3067e71d8a9435e1d2f3b2d6/Cython-3.0.3-cp39-cp39-manylinux_2_17_x86_64.manylinux2014_x86_64.whl.metadata
  Downloading Cython-3.0.3-cp39-cp39-manylinux_2_17_x86_64.manylinux2014_x86_64.whl.metadata (3.2 kB)
Collecting scann==1.2.6 (from tflite-model-maker)
  Downloading scann-1.2.6-cp39-cp39-manylinux2014_x86_64.whl (10.9 MB)
     ━━━━━━━━━━━━━━━━━━━━━━━━━━━━━━━━━━━━━━━━ 10.9/10.9 MB 64.8 MB/s eta 0:00:00
Collecting tensorflow-hub<0.13,>=0.7.0 (from tflite-model-maker)
  Downloading tensorflow_hub-0.12.0-py2.py3-none-any.whl (108 kB)
     ━━━━━━━━━━━━━━━━━━━━━━━━━━━━━━━━━━━━━━ 108.8/108.8 kB 13.2 MB/s eta 0:00:00
Collecting audioread>=2.0.0 (from librosa==0.8.1->tflite-model-maker)
  Obtaining dependency information for audioread>=2.0.0 from https://files.pythonhosted.org/packages/57/8d/30aa32745af16af0a9a650115fbe81bde7c610ed5c21b381fca0196f3a7f/audioread-3.0.1-py3-none-any.whl.metadata
  Downloading audioread-3.0.1-py3-none-any.whl.metadata (8.4 kB)
Collecting scipy>=1.0.0 (from librosa==0.8.1->tflite-model-maker)
  Obtaining dependency information for scipy>=1.0.0 from https://files.pythonhosted.org/packages/88/8c/9d1f74196c296046af1f20e6d3fc7fbb27387282315e1643f450bba14329/scipy-1.11.3-cp39-cp39-manylinux_2_17_x86_64.manylinux2014_x86_64.whl.metadata
  Downloading scipy-1.11.3-cp39-cp39-manylinux_2_17_x86_64.manylinux2014_x86_64.whl.metadata (60 kB)
     ━━━━━━━━━━━━━━━━━━━━━━━━━━━━━━━━━━━━━━━━ 60.4/60.4 kB 7.2 MB/s eta 0:00:00
Collecting scikit-learn!=0.19.0,>=0.14.0 (from librosa==0.8.1->tflite-model-maker)
  Obtaining dependency information for scikit-learn!=0.19.0,>=0.14.0 from https://files.pythonhosted.org/packages/af/ad/329a88013936e4372181c0e275c19aa6130b0835876726944b811af5a856/scikit_learn-1.3.1-cp39-cp39-manylinux_2_17_x86_64.manylinux2014_x86_64.whl.metadata
  Downloading scikit_learn-1.3.1-cp39-cp39-manylinux_2_17_x86_64.manylinux2014_x86_64.whl.metadata (11 kB)
Collecting joblib>=0.14 (from librosa==0.8.1->tflite-model-maker)
  Obtaining dependency information for joblib>=0.14 from https://files.pythonhosted.org/packages/10/40/d551139c85db202f1f384ba8bcf96aca2f329440a844f924c8a0040b6d02/joblib-1.3.2-py3-none-any.whl.metadata
  Downloading joblib-1.3.2-py3-none-any.whl.metadata (5.4 kB)
Collecting decorator>=3.0.0 (from librosa==0.8.1->tflite-model-maker)
  Downloading decorator-5.1.1-py3-none-any.whl (9.1 kB)
Collecting resampy>=0.2.2 (from librosa==0.8.1->tflite-model-maker)
  Downloading resampy-0.4.2-py3-none-any.whl (3.1 MB)
     ━━━━━━━━━━━━━━━━━━━━━━━━━━━━━━━━━━━━━━━━ 3.1/3.1 MB 75.0 MB/s eta 0:00:00
Collecting soundfile>=0.10.2 (from librosa==0.8.1->tflite-model-maker)
  Downloading soundfile-0.12.1-py2.py3-none-manylinux_2_31_x86_64.whl (1.2 MB)
     ━━━━━━━━━━━━━━━━━━━━━━━━━━━━━━━━━━━━━━━━ 1.2/1.2 MB 65.0 MB/s eta 0:00:00
Collecting pooch>=1.0 (from librosa==0.8.1->tflite-model-maker)
  Downloading pooch-1.7.0-py3-none-any.whl (60 kB)
     ━━━━━━━━━━━━━━━━━━━━━━━━━━━━━━━━━━━━━━━━ 60.9/60.9 kB 7.1 MB/s eta 0:00:00
Collecting packaging>=20.0 (from librosa==0.8.1->tflite-model-maker)
  Obtaining dependency information for packaging>=20.0 from https://files.pythonhosted.org/packages/ec/1a/610693ac4ee14fcdf2d9bf3c493370e4f2ef7ae2e19217d7a237ff42367d/packaging-23.2-py3-none-any.whl.metadata
  Downloading packaging-23.2-py3-none-any.whl.metadata (3.2 kB)
Collecting llvmlite<0.37,>=0.36.0rc1 (from numba==0.53->tflite-model-maker)
  Downloading llvmlite-0.36.0-cp39-cp39-manylinux2010_x86_64.whl (25.3 MB)
     ━━━━━━━━━━━━━━━━━━━━━━━━━━━━━━━━━━━━━━━━ 25.3/25.3 MB 48.9 MB/s eta 0:00:00
Requirement already satisfied: setuptools in /usr/local/envs/myenv/lib/python3.9/site-packages (from numba==0.53->tflite-model-maker) (68.0.0)
Collecting tensorflow>=2.6.0 (from tflite-model-maker)
  Downloading tensorflow-2.8.4-cp39-cp39-manylinux2010_x86_64.whl (498.1 MB)
     ━━━━━━━━━━━━━━━━━━━━━━━━━━━━━━━━━━━━━━━ 498.1/498.1 MB 3.5 MB/s eta 0:00:00
Collecting dataclasses (from tf-models-official==2.3.0->tflite-model-maker)
  Downloading dataclasses-0.6-py3-none-any.whl (14 kB)
Collecting gin-config (from tf-models-official==2.3.0->tflite-model-maker)
  Downloading gin_config-0.5.0-py3-none-any.whl (61 kB)
     ━━━━━━━━━━━━━━━━━━━━━━━━━━━━━━━━━━━━━━━━ 61.3/61.3 kB 7.7 MB/s eta 0:00:00
Collecting google-api-python-client>=1.6.7 (from tf-models-official==2.3.0->tflite-model-maker)
  Obtaining dependency information for google-api-python-client>=1.6.7 from https://files.pythonhosted.org/packages/f8/e9/11fb73fe17f63e2e8aa7c1f4afb790ab737c0881dce4757bdead998ef48d/google_api_python_client-2.102.0-py2.py3-none-any.whl.metadata
  Downloading google_api_python_client-2.102.0-py2.py3-none-any.whl.metadata (6.6 kB)
Collecting google-cloud-bigquery>=0.31.0 (from tf-models-official==2.3.0->tflite-model-maker)
  Obtaining dependency information for google-cloud-bigquery>=0.31.0 from https://files.pythonhosted.org/packages/22/03/a5d04741507156b88e9101e91d97bd395d043e9de280b94b1d00cb0f4e03/google_cloud_bigquery-3.12.0-py2.py3-none-any.whl.metadata
  Downloading google_cloud_bigquery-3.12.0-py2.py3-none-any.whl.metadata (8.5 kB)
Collecting kaggle>=1.3.9 (from tf-models-official==2.3.0->tflite-model-maker)
  Downloading kaggle-1.5.16.tar.gz (83 kB)
     ━━━━━━━━━━━━━━━━━━━━━━━━━━━━━━━━━━━━━━━━ 83.6/83.6 kB 10.9 MB/s eta 0:00:00
  Preparing metadata (setup.py) ... done
Collecting opencv-python-headless (from tf-models-official==2.3.0->tflite-model-maker)
  Obtaining dependency information for opencv-python-headless from https://files.pythonhosted.org/packages/9d/d7/e2aaf344254292d2046f9984b54212e4e7d69a57d30ae15e7294840710f6/opencv_python_headless-4.8.1.78-cp37-abi3-manylinux_2_17_x86_64.manylinux2014_x86_64.whl.metadata
  Downloading opencv_python_headless-4.8.1.78-cp37-abi3-manylinux_2_17_x86_64.manylinux2014_x86_64.whl.metadata (19 kB)
Collecting pandas>=0.22.0 (from tf-models-official==2.3.0->tflite-model-maker)
  Obtaining dependency information for pandas>=0.22.0 from https://files.pythonhosted.org/packages/bc/7e/a9e11bd272e3135108892b6230a115568f477864276181eada3a35d03237/pandas-2.1.1-cp39-cp39-manylinux_2_17_x86_64.manylinux2014_x86_64.whl.metadata
  Downloading pandas-2.1.1-cp39-cp39-manylinux_2_17_x86_64.manylinux2014_x86_64.whl.metadata (18 kB)
Collecting psutil>=5.4.3 (from tf-models-official==2.3.0->tflite-model-maker)
  Downloading psutil-5.9.5-cp36-abi3-manylinux_2_12_x86_64.manylinux2010_x86_64.manylinux_2_17_x86_64.manylinux2014_x86_64.whl (282 kB)
     ━━━━━━━━━━━━━━━━━━━━━━━━━━━━━━━━━━━━━━ 282.1/282.1 kB 15.8 MB/s eta 0:00:00
Collecting py-cpuinfo>=3.3.0 (from tf-models-official==2.3.0->tflite-model-maker)
  Downloading py_cpuinfo-9.0.0-py3-none-any.whl (22 kB)
Collecting tf-slim>=1.1.0 (from tf-models-official==2.3.0->tflite-model-maker)
  Downloading tf_slim-1.1.0-py2.py3-none-any.whl (352 kB)
     ━━━━━━━━━━━━━━━━━━━━━━━━━━━━━━━━━━━━━━ 352.1/352.1 kB 35.1 MB/s eta 0:00:00
Collecting termcolor (from fire>=0.3.1->tflite-model-maker)
  Downloading termcolor-2.3.0-py3-none-any.whl (6.9 kB)
Collecting cycler>=0.10 (from matplotlib<3.5.0,>=3.0.3->tflite-model-maker)
  Obtaining dependency information for cycler>=0.10 from https://files.pythonhosted.org/packages/2b/b3/70c33027c4918c10ccf176014b38f8b91cb18ac018a78854543a4fc72609/cycler-0.12.0-py3-none-any.whl.metadata
  Downloading cycler-0.12.0-py3-none-any.whl.metadata (3.8 kB)
Collecting kiwisolver>=1.0.1 (from matplotlib<3.5.0,>=3.0.3->tflite-model-maker)
  Obtaining dependency information for kiwisolver>=1.0.1 from https://files.pythonhosted.org/packages/c0/a8/841594f11d0b88d8aeb26991bc4dac38baa909dc58d0c4262a4f7893bcbf/kiwisolver-1.4.5-cp39-cp39-manylinux_2_12_x86_64.manylinux2010_x86_64.whl.metadata
  Downloading kiwisolver-1.4.5-cp39-cp39-manylinux_2_12_x86_64.manylinux2010_x86_64.whl.metadata (6.4 kB)
Collecting pyparsing>=2.2.1 (from matplotlib<3.5.0,>=3.0.3->tflite-model-maker)
  Obtaining dependency information for pyparsing>=2.2.1 from https://files.pythonhosted.org/packages/39/92/8486ede85fcc088f1b3dba4ce92dd29d126fd96b0008ea213167940a2475/pyparsing-3.1.1-py3-none-any.whl.metadata
  Downloading pyparsing-3.1.1-py3-none-any.whl.metadata (5.1 kB)
Collecting python-dateutil>=2.7 (from matplotlib<3.5.0,>=3.0.3->tflite-model-maker)
  Downloading python_dateutil-2.8.2-py2.py3-none-any.whl (247 kB)
     ━━━━━━━━━━━━━━━━━━━━━━━━━━━━━━━━━━━━━━ 247.7/247.7 kB 29.2 MB/s eta 0:00:00
Collecting attrs (from neural-structured-learning>=1.3.1->tflite-model-maker)
  Downloading attrs-23.1.0-py3-none-any.whl (61 kB)
     ━━━━━━━━━━━━━━━━━━━━━━━━━━━━━━━━━━━━━━━━ 61.2/61.2 kB 7.7 MB/s eta 0:00:00
Collecting astunparse>=1.6.0 (from tensorflow>=2.6.0->tflite-model-maker)
  Downloading astunparse-1.6.3-py2.py3-none-any.whl (12 kB)
Collecting gast>=0.2.1 (from tensorflow>=2.6.0->tflite-model-maker)
  Downloading gast-0.5.4-py3-none-any.whl (19 kB)
Collecting google-pasta>=0.1.1 (from tensorflow>=2.6.0->tflite-model-maker)
  Downloading google_pasta-0.2.0-py3-none-any.whl (57 kB)
     ━━━━━━━━━━━━━━━━━━━━━━━━━━━━━━━━━━━━━━━━ 57.5/57.5 kB 7.6 MB/s eta 0:00:00
Collecting h5py>=2.9.0 (from tensorflow>=2.6.0->tflite-model-maker)
  Obtaining dependency information for h5py>=2.9.0 from https://files.pythonhosted.org/packages/4f/79/8e6e05bc4954ebdb8b9c587f780a11f28790585798bd15a8e4870cfc02bc/h5py-3.9.0-cp39-cp39-manylinux_2_17_x86_64.manylinux2014_x86_64.whl.metadata
  Downloading h5py-3.9.0-cp39-cp39-manylinux_2_17_x86_64.manylinux2014_x86_64.whl.metadata (2.5 kB)
Collecting keras-preprocessing>=1.1.1 (from tensorflow>=2.6.0->tflite-model-maker)
  Downloading Keras_Preprocessing-1.1.2-py2.py3-none-any.whl (42 kB)
     ━━━━━━━━━━━━━━━━━━━━━━━━━━━━━━━━━━━━━━━━ 42.6/42.6 kB 5.2 MB/s eta 0:00:00
Collecting libclang>=9.0.1 (from tensorflow>=2.6.0->tflite-model-maker)
  Obtaining dependency information for libclang>=9.0.1 from https://files.pythonhosted.org/packages/ea/df/55525e489c43f9dbb6c8ea27d8a567b3dcd18a22f3c45483055f5ca6611d/libclang-16.0.6-py2.py3-none-manylinux2010_x86_64.whl.metadata
  Downloading libclang-16.0.6-py2.py3-none-manylinux2010_x86_64.whl.metadata (5.2 kB)
Collecting opt-einsum>=2.3.2 (from tensorflow>=2.6.0->tflite-model-maker)
  Downloading opt_einsum-3.3.0-py3-none-any.whl (65 kB)
     ━━━━━━━━━━━━━━━━━━━━━━━━━━━━━━━━━━━━━━━━ 65.5/65.5 kB 9.5 MB/s eta 0:00:00
Collecting protobuf<3.20,>=3.9.2 (from tensorflow>=2.6.0->tflite-model-maker)
  Downloading protobuf-3.19.6-cp39-cp39-manylinux_2_17_x86_64.manylinux2014_x86_64.whl (1.1 MB)
     ━━━━━━━━━━━━━━━━━━━━━━━━━━━━━━━━━━━━━━━━ 1.1/1.1 MB 64.7 MB/s eta 0:00:00
Collecting typing-extensions>=3.6.6 (from tensorflow>=2.6.0->tflite-model-maker)
  Obtaining dependency information for typing-extensions>=3.6.6 from https://files.pythonhosted.org/packages/24/21/7d397a4b7934ff4028987914ac1044d3b7d52712f30e2ac7a2ae5bc86dd0/typing_extensions-4.8.0-py3-none-any.whl.metadata
  Downloading typing_extensions-4.8.0-py3-none-any.whl.metadata (3.0 kB)
Collecting wrapt>=1.11.0 (from tensorflow>=2.6.0->tflite-model-maker)
  Downloading wrapt-1.15.0-cp39-cp39-manylinux_2_5_x86_64.manylinux1_x86_64.manylinux_2_17_x86_64.manylinux2014_x86_64.whl (78 kB)
     ━━━━━━━━━━━━━━━━━━━━━━━━━━━━━━━━━━━━━━━━ 78.3/78.3 kB 9.6 MB/s eta 0:00:00
Collecting tensorboard<2.9,>=2.8 (from tensorflow>=2.6.0->tflite-model-maker)
  Downloading tensorboard-2.8.0-py3-none-any.whl (5.8 MB)
     ━━━━━━━━━━━━━━━━━━━━━━━━━━━━━━━━━━━━━━━━ 5.8/5.8 MB 70.3 MB/s eta 0:00:00
Collecting tensorflow-estimator<2.9,>=2.8 (from tensorflow>=2.6.0->tflite-model-maker)
  Downloading tensorflow_estimator-2.8.0-py2.py3-none-any.whl (462 kB)
     ━━━━━━━━━━━━━━━━━━━━━━━━━━━━━━━━━━━━━━ 462.3/462.3 kB 33.2 MB/s eta 0:00:00
Collecting keras<2.9,>=2.8.0rc0 (from tensorflow>=2.6.0->tflite-model-maker)
  Downloading keras-2.8.0-py2.py3-none-any.whl (1.4 MB)
     ━━━━━━━━━━━━━━━━━━━━━━━━━━━━━━━━━━━━━━━━ 1.4/1.4 MB 67.9 MB/s eta 0:00:00
Collecting tensorflow-io-gcs-filesystem>=0.23.1 (from tensorflow>=2.6.0->tflite-model-maker)
  Obtaining dependency information for tensorflow-io-gcs-filesystem>=0.23.1 from https://files.pythonhosted.org/packages/49/49/fa8224d5da4c81c958503c159bae176cae329f8704bef881d8fd7d99a180/tensorflow_io_gcs_filesystem-0.34.0-cp39-cp39-manylinux_2_12_x86_64.manylinux2010_x86_64.whl.metadata
  Downloading tensorflow_io_gcs_filesystem-0.34.0-cp39-cp39-manylinux_2_12_x86_64.manylinux2010_x86_64.whl.metadata (14 kB)
Collecting grpcio<2.0,>=1.24.3 (from tensorflow>=2.6.0->tflite-model-maker)
  Obtaining dependency information for grpcio<2.0,>=1.24.3 from https://files.pythonhosted.org/packages/d1/a1/adf44cb808bcda1997d8afb3033b4fd503f6f5e89a6d3eeb454cb84c8abc/grpcio-1.59.0-cp39-cp39-manylinux_2_17_x86_64.manylinux2014_x86_64.whl.metadata
  Downloading grpcio-1.59.0-cp39-cp39-manylinux_2_17_x86_64.manylinux2014_x86_64.whl.metadata (4.0 kB)
Collecting typeguard<3.0.0,>=2.7 (from tensorflow-addons>=0.11.2->tflite-model-maker)
  Downloading typeguard-2.13.3-py3-none-any.whl (17 kB)
Collecting array-record (from tensorflow-datasets>=2.1.0->tflite-model-maker)
  Obtaining dependency information for array-record from https://files.pythonhosted.org/packages/64/5c/bc2130553b344c91e5cd36946e9996b0f1bdaca1c2e046bef76ec1e0e3cc/array_record-0.4.1-py39-none-any.whl.metadata
  Downloading array_record-0.4.1-py39-none-any.whl.metadata (503 bytes)
Collecting click (from tensorflow-datasets>=2.1.0->tflite-model-maker)
  Obtaining dependency information for click from https://files.pythonhosted.org/packages/00/2e/d53fa4befbf2cfa713304affc7ca780ce4fc1fd8710527771b58311a3229/click-8.1.7-py3-none-any.whl.metadata
  Downloading click-8.1.7-py3-none-any.whl.metadata (3.0 kB)
Collecting dm-tree (from tensorflow-datasets>=2.1.0->tflite-model-maker)
  Downloading dm_tree-0.1.8-cp39-cp39-manylinux_2_17_x86_64.manylinux2014_x86_64.whl (153 kB)
     ━━━━━━━━━━━━━━━━━━━━━━━━━━━━━━━━━━━━━━ 153.0/153.0 kB 17.9 MB/s eta 0:00:00
Collecting etils[enp,epath,etree]>=0.9.0 (from tensorflow-datasets>=2.1.0->tflite-model-maker)
  Obtaining dependency information for etils[enp,epath,etree]>=0.9.0 from https://files.pythonhosted.org/packages/db/b1/094f147d77178d7a3553b40b6bc13fc9dd1ba4ef5425abe94d07ad2447dc/etils-1.5.0-py3-none-any.whl.metadata
  Downloading etils-1.5.0-py3-none-any.whl.metadata (6.1 kB)
Collecting promise (from tensorflow-datasets>=2.1.0->tflite-model-maker)
  Downloading promise-2.3.tar.gz (19 kB)
  Preparing metadata (setup.py) ... done
INFO: pip is looking at multiple versions of tensorflow-datasets to determine which version is compatible with other requirements. This could take a while.
Collecting tensorflow-datasets>=2.1.0 (from tflite-model-maker)
  Downloading tensorflow_datasets-4.9.2-py3-none-any.whl (5.4 MB)
     ━━━━━━━━━━━━━━━━━━━━━━━━━━━━━━━━━━━━━━━━ 5.4/5.4 MB 76.1 MB/s eta 0:00:00
  Downloading tensorflow_datasets-4.9.1-py3-none-any.whl (5.4 MB)
     ━━━━━━━━━━━━━━━━━━━━━━━━━━━━━━━━━━━━━━━━ 5.4/5.4 MB 69.0 MB/s eta 0:00:00
  Downloading tensorflow_datasets-4.9.0-py3-none-any.whl (5.4 MB)
     ━━━━━━━━━━━━━━━━━━━━━━━━━━━━━━━━━━━━━━━━ 5.4/5.4 MB 80.6 MB/s eta 0:00:00
Collecting requests>=2.19.0 (from tensorflow-datasets>=2.1.0->tflite-model-maker)
  Obtaining dependency information for requests>=2.19.0 from https://files.pythonhosted.org/packages/70/8e/0e2d847013cb52cd35b38c009bb167a1a26b2ce6cd6965bf26b47bc0bf44/requests-2.31.0-py3-none-any.whl.metadata
  Downloading requests-2.31.0-py3-none-any.whl.metadata (4.6 kB)
Collecting tensorflow-metadata (from tensorflow-datasets>=2.1.0->tflite-model-maker)
  Obtaining dependency information for tensorflow-metadata from https://files.pythonhosted.org/packages/41/23/3705c7139886c079ef4c0e3be56a5a1fb90e9ee413a4b7caaee0ee0ea6fe/tensorflow_metadata-1.14.0-py3-none-any.whl.metadata
  Downloading tensorflow_metadata-1.14.0-py3-none-any.whl.metadata (2.1 kB)
Collecting toml (from tensorflow-datasets>=2.1.0->tflite-model-maker)
  Downloading toml-0.10.2-py2.py3-none-any.whl (16 kB)
Collecting tqdm (from tensorflow-datasets>=2.1.0->tflite-model-maker)
  Obtaining dependency information for tqdm from https://files.pythonhosted.org/packages/00/e5/f12a80907d0884e6dff9c16d0c0114d81b8cd07dc3ae54c5e962cc83037e/tqdm-4.66.1-py3-none-any.whl.metadata
  Downloading tqdm-4.66.1-py3-none-any.whl.metadata (57 kB)
     ━━━━━━━━━━━━━━━━━━━━━━━━━━━━━━━━━━━━━━━━ 57.6/57.6 kB 6.5 MB/s eta 0:00:00
Collecting absl-py>=0.10.0 (from tflite-model-maker)
  Downloading absl_py-1.4.0-py3-none-any.whl (126 kB)
     ━━━━━━━━━━━━━━━━━━━━━━━━━━━━━━━━━━━━━━ 126.5/126.5 kB 14.1 MB/s eta 0:00:00
Collecting packaging>=20.0 (from librosa==0.8.1->tflite-model-maker)
  Downloading packaging-20.9-py2.py3-none-any.whl (40 kB)
     ━━━━━━━━━━━━━━━━━━━━━━━━━━━━━━━━━━━━━━━━ 40.9/40.9 kB 4.8 MB/s eta 0:00:00
Collecting sounddevice>=0.4.4 (from tflite-support>=0.4.2->tflite-model-maker)
  Downloading sounddevice-0.4.6-py3-none-any.whl (31 kB)
Collecting pybind11>=2.6.0 (from tflite-support>=0.4.2->tflite-model-maker)
  Obtaining dependency information for pybind11>=2.6.0 from https://files.pythonhosted.org/packages/06/55/9f73c32dda93fa4f539fafa268f9504e83c489f460c380371d94296126cd/pybind11-2.11.1-py3-none-any.whl.metadata
  Downloading pybind11-2.11.1-py3-none-any.whl.metadata (9.5 kB)
Requirement already satisfied: wheel<1.0,>=0.23.0 in /usr/local/envs/myenv/lib/python3.9/site-packages (from astunparse>=1.6.0->tensorflow>=2.6.0->tflite-model-maker) (0.41.2)
Collecting fsspec (from etils[enp,epath,etree]>=0.9.0->tensorflow-datasets>=2.1.0->tflite-model-maker)
  Obtaining dependency information for fsspec from https://files.pythonhosted.org/packages/fe/d3/e1aa96437d944fbb9cc95d0316e25583886e9cd9e6adc07baad943524eda/fsspec-2023.9.2-py3-none-any.whl.metadata
  Downloading fsspec-2023.9.2-py3-none-any.whl.metadata (6.7 kB)
Collecting importlib_resources (from etils[enp,epath,etree]>=0.9.0->tensorflow-datasets>=2.1.0->tflite-model-maker)
  Obtaining dependency information for importlib_resources from https://files.pythonhosted.org/packages/65/6e/09d8816b5cb7a4006ef8ad1717a2703ad9f331dae9717d9f22488a2d6469/importlib_resources-6.1.0-py3-none-any.whl.metadata
  Downloading importlib_resources-6.1.0-py3-none-any.whl.metadata (4.1 kB)
Collecting zipp (from etils[enp,epath,etree]>=0.9.0->tensorflow-datasets>=2.1.0->tflite-model-maker)
  Obtaining dependency information for zipp from https://files.pythonhosted.org/packages/d9/66/48866fc6b158c81cc2bfecc04c480f105c6040e8b077bc54c634b4a67926/zipp-3.17.0-py3-none-any.whl.metadata
  Downloading zipp-3.17.0-py3-none-any.whl.metadata (3.7 kB)
Collecting httplib2<1.dev0,>=0.15.0 (from google-api-python-client>=1.6.7->tf-models-official==2.3.0->tflite-model-maker)
  Downloading httplib2-0.22.0-py3-none-any.whl (96 kB)
     ━━━━━━━━━━━━━━━━━━━━━━━━━━━━━━━━━━━━━━━━ 96.9/96.9 kB 11.7 MB/s eta 0:00:00
Collecting google-auth<3.0.0.dev0,>=1.19.0 (from google-api-python-client>=1.6.7->tf-models-official==2.3.0->tflite-model-maker)
  Obtaining dependency information for google-auth<3.0.0.dev0,>=1.19.0 from https://files.pythonhosted.org/packages/d7/88/1826b0c047c48763b36ed854a984127b430a16b70003155d7b19975f1d59/google_auth-2.23.2-py2.py3-none-any.whl.metadata
  Downloading google_auth-2.23.2-py2.py3-none-any.whl.metadata (4.2 kB)
Collecting google-auth-httplib2>=0.1.0 (from google-api-python-client>=1.6.7->tf-models-official==2.3.0->tflite-model-maker)
  Obtaining dependency information for google-auth-httplib2>=0.1.0 from https://files.pythonhosted.org/packages/d3/3d/e4991229886c0d522d9552151a43ff7adcc61e026e60ce8bd508387f84cf/google_auth_httplib2-0.1.1-py2.py3-none-any.whl.metadata
  Downloading google_auth_httplib2-0.1.1-py2.py3-none-any.whl.metadata (2.1 kB)
Collecting google-api-core!=2.0.*,!=2.1.*,!=2.2.*,!=2.3.0,<3.0.0.dev0,>=1.31.5 (from google-api-python-client>=1.6.7->tf-models-official==2.3.0->tflite-model-maker)
  Obtaining dependency information for google-api-core!=2.0.*,!=2.1.*,!=2.2.*,!=2.3.0,<3.0.0.dev0,>=1.31.5 from https://files.pythonhosted.org/packages/4d/ce/4fd62ea66b3508debc795e475336ce915929765870f0ad52328426ba016e/google_api_core-2.12.0-py3-none-any.whl.metadata
  Downloading google_api_core-2.12.0-py3-none-any.whl.metadata (2.7 kB)
Collecting uritemplate<5,>=3.0.1 (from google-api-python-client>=1.6.7->tf-models-official==2.3.0->tflite-model-maker)
  Downloading uritemplate-4.1.1-py2.py3-none-any.whl (10 kB)
Collecting proto-plus<2.0.0dev,>=1.15.0 (from google-cloud-bigquery>=0.31.0->tf-models-official==2.3.0->tflite-model-maker)
  Obtaining dependency information for proto-plus<2.0.0dev,>=1.15.0 from https://files.pythonhosted.org/packages/36/5b/e02636d221917d6fa2a61289b3f16002eb4c93d51c0191ac8e896d527182/proto_plus-1.22.3-py3-none-any.whl.metadata
  Downloading proto_plus-1.22.3-py3-none-any.whl.metadata (2.2 kB)
Collecting google-cloud-core<3.0.0dev,>=1.6.0 (from google-cloud-bigquery>=0.31.0->tf-models-official==2.3.0->tflite-model-maker)
  Obtaining dependency information for google-cloud-core<3.0.0dev,>=1.6.0 from https://files.pythonhosted.org/packages/a2/40/02045f776fdb6e44194f34b6375a26ce8a61bd9bd03cd8930ed91cf51a62/google_cloud_core-2.3.3-py2.py3-none-any.whl.metadata
  Downloading google_cloud_core-2.3.3-py2.py3-none-any.whl.metadata (2.5 kB)
Collecting google-resumable-media<3.0dev,>=0.6.0 (from google-cloud-bigquery>=0.31.0->tf-models-official==2.3.0->tflite-model-maker)
  Obtaining dependency information for google-resumable-media<3.0dev,>=0.6.0 from https://files.pythonhosted.org/packages/c7/4f/b8e5e22406e5aeafa46df8799939d5eeee52f18eeed339675167fac6603a/google_resumable_media-2.6.0-py2.py3-none-any.whl.metadata
  Downloading google_resumable_media-2.6.0-py2.py3-none-any.whl.metadata (2.1 kB)
Collecting certifi (from kaggle>=1.3.9->tf-models-official==2.3.0->tflite-model-maker)
  Obtaining dependency information for certifi from https://files.pythonhosted.org/packages/4c/dd/2234eab22353ffc7d94e8d13177aaa050113286e93e7b40eae01fbf7c3d9/certifi-2023.7.22-py3-none-any.whl.metadata
  Downloading certifi-2023.7.22-py3-none-any.whl.metadata (2.2 kB)
Collecting python-slugify (from kaggle>=1.3.9->tf-models-official==2.3.0->tflite-model-maker)
  Downloading python_slugify-8.0.1-py2.py3-none-any.whl (9.7 kB)
Collecting bleach (from kaggle>=1.3.9->tf-models-official==2.3.0->tflite-model-maker)
  Downloading bleach-6.0.0-py3-none-any.whl (162 kB)
     ━━━━━━━━━━━━━━━━━━━━━━━━━━━━━━━━━━━━━━ 162.5/162.5 kB 19.4 MB/s eta 0:00:00
Collecting pytz>=2020.1 (from pandas>=0.22.0->tf-models-official==2.3.0->tflite-model-maker)
  Obtaining dependency information for pytz>=2020.1 from https://files.pythonhosted.org/packages/32/4d/aaf7eff5deb402fd9a24a1449a8119f00d74ae9c2efa79f8ef9994261fc2/pytz-2023.3.post1-py2.py3-none-any.whl.metadata
  Downloading pytz-2023.3.post1-py2.py3-none-any.whl.metadata (22 kB)
Collecting tzdata>=2022.1 (from pandas>=0.22.0->tf-models-official==2.3.0->tflite-model-maker)
  Downloading tzdata-2023.3-py2.py3-none-any.whl (341 kB)
     ━━━━━━━━━━━━━━━━━━━━━━━━━━━━━━━━━━━━━━ 341.8/341.8 kB 37.3 MB/s eta 0:00:00
Collecting platformdirs>=2.5.0 (from pooch>=1.0->librosa==0.8.1->tflite-model-maker)
  Obtaining dependency information for platformdirs>=2.5.0 from https://files.pythonhosted.org/packages/56/29/3ec311dc18804409ecf0d2b09caa976f3ae6215559306b5b530004e11156/platformdirs-3.11.0-py3-none-any.whl.metadata
  Downloading platformdirs-3.11.0-py3-none-any.whl.metadata (11 kB)
Collecting charset-normalizer<4,>=2 (from requests>=2.19.0->tensorflow-datasets>=2.1.0->tflite-model-maker)
  Obtaining dependency information for charset-normalizer<4,>=2 from https://files.pythonhosted.org/packages/9e/45/824835a9c165eae015eb7b4a875a581918b9fc96439f8d9a5ca0868f0b7d/charset_normalizer-3.3.0-cp39-cp39-manylinux_2_17_x86_64.manylinux2014_x86_64.whl.metadata
  Downloading charset_normalizer-3.3.0-cp39-cp39-manylinux_2_17_x86_64.manylinux2014_x86_64.whl.metadata (32 kB)
Collecting idna<4,>=2.5 (from requests>=2.19.0->tensorflow-datasets>=2.1.0->tflite-model-maker)
  Downloading idna-3.4-py3-none-any.whl (61 kB)
     ━━━━━━━━━━━━━━━━━━━━━━━━━━━━━━━━━━━━━━━━ 61.5/61.5 kB 8.4 MB/s eta 0:00:00
Collecting threadpoolctl>=2.0.0 (from scikit-learn!=0.19.0,>=0.14.0->librosa==0.8.1->tflite-model-maker)
  Obtaining dependency information for threadpoolctl>=2.0.0 from https://files.pythonhosted.org/packages/81/12/fd4dea011af9d69e1cad05c75f3f7202cdcbeac9b712eea58ca779a72865/threadpoolctl-3.2.0-py3-none-any.whl.metadata
  Downloading threadpoolctl-3.2.0-py3-none-any.whl.metadata (10.0 kB)
Collecting CFFI>=1.0 (from sounddevice>=0.4.4->tflite-support>=0.4.2->tflite-model-maker)
  Obtaining dependency information for CFFI>=1.0 from https://files.pythonhosted.org/packages/ea/ac/e9e77bc385729035143e54cc8c4785bd480eaca9df17565963556b0b7a93/cffi-1.16.0-cp39-cp39-manylinux_2_17_x86_64.manylinux2014_x86_64.whl.metadata
  Downloading cffi-1.16.0-cp39-cp39-manylinux_2_17_x86_64.manylinux2014_x86_64.whl.metadata (1.5 kB)
Collecting google-auth-oauthlib<0.5,>=0.4.1 (from tensorboard<2.9,>=2.8->tensorflow>=2.6.0->tflite-model-maker)
  Downloading google_auth_oauthlib-0.4.6-py2.py3-none-any.whl (18 kB)
Collecting markdown>=2.6.8 (from tensorboard<2.9,>=2.8->tensorflow>=2.6.0->tflite-model-maker)
  Obtaining dependency information for markdown>=2.6.8 from https://files.pythonhosted.org/packages/1a/b5/228c1cdcfe138f1a8e01ab1b54284c8b83735476cb22b6ba251656ed13ad/Markdown-3.4.4-py3-none-any.whl.metadata
  Downloading Markdown-3.4.4-py3-none-any.whl.metadata (6.9 kB)
Collecting tensorboard-data-server<0.7.0,>=0.6.0 (from tensorboard<2.9,>=2.8->tensorflow>=2.6.0->tflite-model-maker)
  Downloading tensorboard_data_server-0.6.1-py3-none-manylinux2010_x86_64.whl (4.9 MB)
     ━━━━━━━━━━━━━━━━━━━━━━━━━━━━━━━━━━━━━━━━ 4.9/4.9 MB 94.6 MB/s eta 0:00:00
Collecting tensorboard-plugin-wit>=1.6.0 (from tensorboard<2.9,>=2.8->tensorflow>=2.6.0->tflite-model-maker)
  Downloading tensorboard_plugin_wit-1.8.1-py3-none-any.whl (781 kB)
     ━━━━━━━━━━━━━━━━━━━━━━━━━━━━━━━━━━━━━━ 781.3/781.3 kB 68.2 MB/s eta 0:00:00
Collecting werkzeug>=0.11.15 (from tensorboard<2.9,>=2.8->tensorflow>=2.6.0->tflite-model-maker)
  Obtaining dependency information for werkzeug>=0.11.15 from https://files.pythonhosted.org/packages/b6/a5/54b01f663d60d5334f6c9c87c26274e94617a4fd463d812463626423b10d/werkzeug-3.0.0-py3-none-any.whl.metadata
  Downloading werkzeug-3.0.0-py3-none-any.whl.metadata (4.1 kB)
Collecting googleapis-common-protos<2,>=1.52.0 (from tensorflow-metadata->tensorflow-datasets>=2.1.0->tflite-model-maker)
  Obtaining dependency information for googleapis-common-protos<2,>=1.52.0 from https://files.pythonhosted.org/packages/a7/bc/416a1ffeba4dcd072bc10523dac9ed97f2e7fc4b760580e2bdbdc1e2afdd/googleapis_common_protos-1.60.0-py2.py3-none-any.whl.metadata
  Downloading googleapis_common_protos-1.60.0-py2.py3-none-any.whl.metadata (1.5 kB)
INFO: pip is looking at multiple versions of tensorflow-metadata to determine which version is compatible with other requirements. This could take a while.
Collecting tensorflow-metadata (from tensorflow-datasets>=2.1.0->tflite-model-maker)
  Downloading tensorflow_metadata-1.13.1-py3-none-any.whl (28 kB)
  Downloading tensorflow_metadata-1.13.0-py3-none-any.whl (53 kB)
     ━━━━━━━━━━━━━━━━━━━━━━━━━━━━━━━━━━━━━━━━ 53.3/53.3 kB 6.9 MB/s eta 0:00:00
Collecting pycparser (from CFFI>=1.0->sounddevice>=0.4.4->tflite-support>=0.4.2->tflite-model-maker)
  Downloading pycparser-2.21-py2.py3-none-any.whl (118 kB)
     ━━━━━━━━━━━━━━━━━━━━━━━━━━━━━━━━━━━━━━ 118.7/118.7 kB 17.0 MB/s eta 0:00:00
Collecting grpcio-status<2.0.dev0,>=1.33.2 (from google-api-core!=2.0.*,!=2.1.*,!=2.2.*,!=2.3.0,<3.0.0.dev0,>=1.31.5->google-api-python-client>=1.6.7->tf-models-official==2.3.0->tflite-model-maker)
  Obtaining dependency information for grpcio-status<2.0.dev0,>=1.33.2 from https://files.pythonhosted.org/packages/55/ce/e6d0382610240439ced22fe2183bcc387946bf80e5e0f17f5b5250978ff3/grpcio_status-1.59.0-py3-none-any.whl.metadata
  Downloading grpcio_status-1.59.0-py3-none-any.whl.metadata (1.3 kB)
Collecting cachetools<6.0,>=2.0.0 (from google-auth<3.0.0.dev0,>=1.19.0->google-api-python-client>=1.6.7->tf-models-official==2.3.0->tflite-model-maker)
  Obtaining dependency information for cachetools<6.0,>=2.0.0 from https://files.pythonhosted.org/packages/a9/c9/c8a7710f2cedcb1db9224fdd4d8307c9e48cbddc46c18b515fefc0f1abbe/cachetools-5.3.1-py3-none-any.whl.metadata
  Downloading cachetools-5.3.1-py3-none-any.whl.metadata (5.2 kB)
Collecting pyasn1-modules>=0.2.1 (from google-auth<3.0.0.dev0,>=1.19.0->google-api-python-client>=1.6.7->tf-models-official==2.3.0->tflite-model-maker)
  Downloading pyasn1_modules-0.3.0-py2.py3-none-any.whl (181 kB)
     ━━━━━━━━━━━━━━━━━━━━━━━━━━━━━━━━━━━━━━ 181.3/181.3 kB 21.5 MB/s eta 0:00:00
Collecting rsa<5,>=3.1.4 (from google-auth<3.0.0.dev0,>=1.19.0->google-api-python-client>=1.6.7->tf-models-official==2.3.0->tflite-model-maker)
  Downloading rsa-4.9-py3-none-any.whl (34 kB)
Collecting requests-oauthlib>=0.7.0 (from google-auth-oauthlib<0.5,>=0.4.1->tensorboard<2.9,>=2.8->tensorflow>=2.6.0->tflite-model-maker)
  Downloading requests_oauthlib-1.3.1-py2.py3-none-any.whl (23 kB)
Collecting google-crc32c<2.0dev,>=1.0 (from google-resumable-media<3.0dev,>=0.6.0->google-cloud-bigquery>=0.31.0->tf-models-official==2.3.0->tflite-model-maker)
  Downloading google_crc32c-1.5.0-cp39-cp39-manylinux_2_17_x86_64.manylinux2014_x86_64.whl (32 kB)
Collecting importlib-metadata>=4.4 (from markdown>=2.6.8->tensorboard<2.9,>=2.8->tensorflow>=2.6.0->tflite-model-maker)
  Obtaining dependency information for importlib-metadata>=4.4 from https://files.pythonhosted.org/packages/cc/37/db7ba97e676af155f5fcb1a35466f446eadc9104e25b83366e8088c9c926/importlib_metadata-6.8.0-py3-none-any.whl.metadata
  Downloading importlib_metadata-6.8.0-py3-none-any.whl.metadata (5.1 kB)
Collecting MarkupSafe>=2.1.1 (from werkzeug>=0.11.15->tensorboard<2.9,>=2.8->tensorflow>=2.6.0->tflite-model-maker)
  Obtaining dependency information for MarkupSafe>=2.1.1 from https://files.pythonhosted.org/packages/de/63/cb7e71984e9159ec5f45b5e81e896c8bdd0e45fe3fc6ce02ab497f0d790e/MarkupSafe-2.1.3-cp39-cp39-manylinux_2_17_x86_64.manylinux2014_x86_64.whl.metadata
  Downloading MarkupSafe-2.1.3-cp39-cp39-manylinux_2_17_x86_64.manylinux2014_x86_64.whl.metadata (3.0 kB)
Collecting webencodings (from bleach->kaggle>=1.3.9->tf-models-official==2.3.0->tflite-model-maker)
  Downloading webencodings-0.5.1-py2.py3-none-any.whl (11 kB)
Collecting text-unidecode>=1.3 (from python-slugify->kaggle>=1.3.9->tf-models-official==2.3.0->tflite-model-maker)
  Downloading text_unidecode-1.3-py2.py3-none-any.whl (78 kB)
     ━━━━━━━━━━━━━━━━━━━━━━━━━━━━━━━━━━━━━━━━ 78.2/78.2 kB 10.3 MB/s eta 0:00:00
INFO: pip is looking at multiple versions of grpcio-status to determine which version is compatible with other requirements. This could take a while.
Collecting grpcio-status<2.0.dev0,>=1.33.2 (from google-api-core!=2.0.*,!=2.1.*,!=2.2.*,!=2.3.0,<3.0.0.dev0,>=1.31.5->google-api-python-client>=1.6.7->tf-models-official==2.3.0->tflite-model-maker)
  Obtaining dependency information for grpcio-status<2.0.dev0,>=1.33.2 from https://files.pythonhosted.org/packages/f6/48/2bcf11bc2df159564eac099ea38d80663d291a56fa2f2f561d08bf083dfa/grpcio_status-1.58.0-py3-none-any.whl.metadata
  Downloading grpcio_status-1.58.0-py3-none-any.whl.metadata (1.3 kB)
  Obtaining dependency information for grpcio-status<2.0.dev0,>=1.33.2 from https://files.pythonhosted.org/packages/d0/3f/347d93056572fdbd64d4f0fc58a18d420763a7118f8b177437d9dab0ae6f/grpcio_status-1.57.0-py3-none-any.whl.metadata
  Downloading grpcio_status-1.57.0-py3-none-any.whl.metadata (1.2 kB)
  Obtaining dependency information for grpcio-status<2.0.dev0,>=1.33.2 from https://files.pythonhosted.org/packages/ef/16/3018689d96918e9c4c7407adf96b721df4d6748ba65db82c5eaa63564335/grpcio_status-1.56.2-py3-none-any.whl.metadata
  Downloading grpcio_status-1.56.2-py3-none-any.whl.metadata (1.3 kB)
  Obtaining dependency information for grpcio-status<2.0.dev0,>=1.33.2 from https://files.pythonhosted.org/packages/2b/21/aaff30111c5941fd9adb5abbf06e04a0e491a685f48ffb291f72ad595ec7/grpcio_status-1.56.0-py3-none-any.whl.metadata
  Downloading grpcio_status-1.56.0-py3-none-any.whl.metadata (1.3 kB)
  Obtaining dependency information for grpcio-status<2.0.dev0,>=1.33.2 from https://files.pythonhosted.org/packages/b6/c8/0efd0cf1ff62b3acc28619b9ba80a6ead4eb0ee42bb1c3b3841610af98a7/grpcio_status-1.55.3-py3-none-any.whl.metadata
  Downloading grpcio_status-1.55.3-py3-none-any.whl.metadata (1.3 kB)
  Obtaining dependency information for grpcio-status<2.0.dev0,>=1.33.2 from https://files.pythonhosted.org/packages/b9/ad/51cf59eb26ffa5360ba9dc318580b777e5dda1aa344ad34475103d97e5ac/grpcio_status-1.54.3-py3-none-any.whl.metadata
  Downloading grpcio_status-1.54.3-py3-none-any.whl.metadata (1.3 kB)
  Obtaining dependency information for grpcio-status<2.0.dev0,>=1.33.2 from https://files.pythonhosted.org/packages/5f/06/19520e0c6ab22fe09a0c8cfeabdf63b1ce6ea5d6ac88a65a2fa57b080976/grpcio_status-1.54.2-py3-none-any.whl.metadata
  Downloading grpcio_status-1.54.2-py3-none-any.whl.metadata (1.3 kB)
INFO: pip is still looking at multiple versions of grpcio-status to determine which version is compatible with other requirements. This could take a while.
  Downloading grpcio_status-1.54.0-py3-none-any.whl (5.1 kB)
  Obtaining dependency information for grpcio-status<2.0.dev0,>=1.33.2 from https://files.pythonhosted.org/packages/fb/c0/8ee53675cb1aecaa7fcbc9bea6575cb8c19a21dd0ce80fe6e5edb04426f4/grpcio_status-1.53.2-py3-none-any.whl.metadata
  Downloading grpcio_status-1.53.2-py3-none-any.whl.metadata (1.3 kB)
  Obtaining dependency information for grpcio-status<2.0.dev0,>=1.33.2 from https://files.pythonhosted.org/packages/61/14/6a4476403abaf954c0b5715de9cfdb7528143c5ac372316fa95704ae8551/grpcio_status-1.53.1-py3-none-any.whl.metadata
  Downloading grpcio_status-1.53.1-py3-none-any.whl.metadata (1.3 kB)
  Downloading grpcio_status-1.53.0-py3-none-any.whl (5.1 kB)
  Downloading grpcio_status-1.51.3-py3-none-any.whl (5.1 kB)
INFO: This is taking longer than usual. You might need to provide the dependency resolver with stricter constraints to reduce runtime. See https://pip.pypa.io/warnings/backtracking for guidance. If you want to abort this run, press Ctrl + C.
  Downloading grpcio_status-1.51.1-py3-none-any.whl (5.1 kB)
  Downloading grpcio_status-1.50.0-py3-none-any.whl (14 kB)
  Downloading grpcio_status-1.49.1-py3-none-any.whl (14 kB)
  Downloading grpcio_status-1.48.2-py3-none-any.whl (14 kB)
Collecting pyasn1<0.6.0,>=0.4.6 (from pyasn1-modules>=0.2.1->google-auth<3.0.0.dev0,>=1.19.0->google-api-python-client>=1.6.7->tf-models-official==2.3.0->tflite-model-maker)
  Downloading pyasn1-0.5.0-py2.py3-none-any.whl (83 kB)
     ━━━━━━━━━━━━━━━━━━━━━━━━━━━━━━━━━━━━━━━━ 83.9/83.9 kB 10.5 MB/s eta 0:00:00
Collecting oauthlib>=3.0.0 (from requests-oauthlib>=0.7.0->google-auth-oauthlib<0.5,>=0.4.1->tensorboard<2.9,>=2.8->tensorflow>=2.6.0->tflite-model-maker)
  Downloading oauthlib-3.2.2-py3-none-any.whl (151 kB)
     ━━━━━━━━━━━━━━━━━━━━━━━━━━━━━━━━━━━━━━ 151.7/151.7 kB 18.5 MB/s eta 0:00:00
Downloading Cython-3.0.3-cp39-cp39-manylinux_2_17_x86_64.manylinux2014_x86_64.whl (3.6 MB)
   ━━━━━━━━━━━━━━━━━━━━━━━━━━━━━━━━━━━━━━━━ 3.6/3.6 MB 98.9 MB/s eta 0:00:00
Downloading flatbuffers-23.5.26-py2.py3-none-any.whl (26 kB)
Downloading lxml-4.9.3-cp39-cp39-manylinux_2_28_x86_64.whl (8.0 MB)
   ━━━━━━━━━━━━━━━━━━━━━━━━━━━━━━━━━━━━━━━━ 8.0/8.0 MB 111.1 MB/s eta 0:00:00
Downloading numpy-1.26.0-cp39-cp39-manylinux_2_17_x86_64.manylinux2014_x86_64.whl (18.2 MB)
   ━━━━━━━━━━━━━━━━━━━━━━━━━━━━━━━━━━━━━━━━ 18.2/18.2 MB 94.5 MB/s eta 0:00:00
Downloading Pillow-10.0.1-cp39-cp39-manylinux_2_28_x86_64.whl (3.6 MB)
   ━━━━━━━━━━━━━━━━━━━━━━━━━━━━━━━━━━━━━━━━ 3.6/3.6 MB 99.5 MB/s eta 0:00:00
Downloading PyYAML-6.0.1-cp39-cp39-manylinux_2_17_x86_64.manylinux2014_x86_64.whl (738 kB)
   ━━━━━━━━━━━━━━━━━━━━━━━━━━━━━━━━━━━━━━━━ 738.9/738.9 kB 46.6 MB/s eta 0:00:00
Downloading tensorflow_addons-0.21.0-cp39-cp39-manylinux_2_17_x86_64.manylinux2014_x86_64.whl (612 kB)
   ━━━━━━━━━━━━━━━━━━━━━━━━━━━━━━━━━━━━━━━━ 612.1/612.1 kB 59.9 MB/s eta 0:00:00
Downloading tensorflow_model_optimization-0.7.5-py2.py3-none-any.whl (241 kB)
   ━━━━━━━━━━━━━━━━━━━━━━━━━━━━━━━━━━━━━━━━ 241.2/241.2 kB 28.6 MB/s eta 0:00:00
Downloading tflite_support-0.4.4-cp39-cp39-manylinux2014_x86_64.whl (60.8 MB)
   ━━━━━━━━━━━━━━━━━━━━━━━━━━━━━━━━━━━━━━━━ 60.8/60.8 MB 10.4 MB/s eta 0:00:00
Downloading audioread-3.0.1-py3-none-any.whl (23 kB)
Downloading cycler-0.12.0-py3-none-any.whl (8.2 kB)
Downloading google_api_python_client-2.102.0-py2.py3-none-any.whl (12.4 MB)
   ━━━━━━━━━━━━━━━━━━━━━━━━━━━━━━━━━━━━━━━━ 12.4/12.4 MB 105.4 MB/s eta 0:00:00
Downloading google_cloud_bigquery-3.12.0-py2.py3-none-any.whl (220 kB)
   ━━━━━━━━━━━━━━━━━━━━━━━━━━━━━━━━━━━━━━━━ 220.4/220.4 kB 27.3 MB/s eta 0:00:00
Downloading grpcio-1.59.0-cp39-cp39-manylinux_2_17_x86_64.manylinux2014_x86_64.whl (5.3 MB)
   ━━━━━━━━━━━━━━━━━━━━━━━━━━━━━━━━━━━━━━━━ 5.3/5.3 MB 123.4 MB/s eta 0:00:00
Downloading h5py-3.9.0-cp39-cp39-manylinux_2_17_x86_64.manylinux2014_x86_64.whl (4.8 MB)
   ━━━━━━━━━━━━━━━━━━━━━━━━━━━━━━━━━━━━━━━━ 4.8/4.8 MB 94.1 MB/s eta 0:00:00
Downloading joblib-1.3.2-py3-none-any.whl (302 kB)
   ━━━━━━━━━━━━━━━━━━━━━━━━━━━━━━━━━━━━━━━━ 302.2/302.2 kB 34.9 MB/s eta 0:00:00
Downloading kiwisolver-1.4.5-cp39-cp39-manylinux_2_12_x86_64.manylinux2010_x86_64.whl (1.6 MB)
   ━━━━━━━━━━━━━━━━━━━━━━━━━━━━━━━━━━━━━━━━ 1.6/1.6 MB 95.6 MB/s eta 0:00:00
Downloading libclang-16.0.6-py2.py3-none-manylinux2010_x86_64.whl (22.9 MB)
   ━━━━━━━━━━━━━━━━━━━━━━━━━━━━━━━━━━━━━━━━ 22.9/22.9 MB 86.2 MB/s eta 0:00:00
Downloading pandas-2.1.1-cp39-cp39-manylinux_2_17_x86_64.manylinux2014_x86_64.whl (12.3 MB)
   ━━━━━━━━━━━━━━━━━━━━━━━━━━━━━━━━━━━━━━━━ 12.3/12.3 MB 111.3 MB/s eta 0:00:00
Downloading pybind11-2.11.1-py3-none-any.whl (227 kB)
   ━━━━━━━━━━━━━━━━━━━━━━━━━━━━━━━━━━━━━━━━ 227.7/227.7 kB 25.9 MB/s eta 0:00:00
Downloading pyparsing-3.1.1-py3-none-any.whl (103 kB)
   ━━━━━━━━━━━━━━━━━━━━━━━━━━━━━━━━━━━━━━━━ 103.1/103.1 kB 14.0 MB/s eta 0:00:00
Downloading requests-2.31.0-py3-none-any.whl (62 kB)
   ━━━━━━━━━━━━━━━━━━━━━━━━━━━━━━━━━━━━━━━━ 62.6/62.6 kB 8.1 MB/s eta 0:00:00
Downloading scikit_learn-1.3.1-cp39-cp39-manylinux_2_17_x86_64.manylinux2014_x86_64.whl (10.9 MB)
   ━━━━━━━━━━━━━━━━━━━━━━━━━━━━━━━━━━━━━━━━ 10.9/10.9 MB 66.2 MB/s eta 0:00:00
Downloading scipy-1.11.3-cp39-cp39-manylinux_2_17_x86_64.manylinux2014_x86_64.whl (36.6 MB)
   ━━━━━━━━━━━━━━━━━━━━━━━━━━━━━━━━━━━━━━━━ 36.6/36.6 MB 12.4 MB/s eta 0:00:00
Downloading tensorflow_io_gcs_filesystem-0.34.0-cp39-cp39-manylinux_2_12_x86_64.manylinux2010_x86_64.whl (2.4 MB)
   ━━━━━━━━━━━━━━━━━━━━━━━━━━━━━━━━━━━━━━━━ 2.4/2.4 MB 68.2 MB/s eta 0:00:00
Downloading typing_extensions-4.8.0-py3-none-any.whl (31 kB)
Downloading array_record-0.4.1-py39-none-any.whl (3.0 MB)
   ━━━━━━━━━━━━━━━━━━━━━━━━━━━━━━━━━━━━━━━━ 3.0/3.0 MB 82.0 MB/s eta 0:00:00
Downloading click-8.1.7-py3-none-any.whl (97 kB)
   ━━━━━━━━━━━━━━━━━━━━━━━━━━━━━━━━━━━━━━━━ 97.9/97.9 kB 11.9 MB/s eta 0:00:00
Downloading opencv_python_headless-4.8.1.78-cp37-abi3-manylinux_2_17_x86_64.manylinux2014_x86_64.whl (49.1 MB)
   ━━━━━━━━━━━━━━━━━━━━━━━━━━━━━━━━━━━━━━━━ 49.1/49.1 MB 12.6 MB/s eta 0:00:00
Downloading tqdm-4.66.1-py3-none-any.whl (78 kB)
   ━━━━━━━━━━━━━━━━━━━━━━━━━━━━━━━━━━━━━━━━ 78.3/78.3 kB 9.4 MB/s eta 0:00:00
Downloading certifi-2023.7.22-py3-none-any.whl (158 kB)
   ━━━━━━━━━━━━━━━━━━━━━━━━━━━━━━━━━━━━━━━━ 158.3/158.3 kB 18.9 MB/s eta 0:00:00
Downloading cffi-1.16.0-cp39-cp39-manylinux_2_17_x86_64.manylinux2014_x86_64.whl (443 kB)
   ━━━━━━━━━━━━━━━━━━━━━━━━━━━━━━━━━━━━━━━━ 443.4/443.4 kB 40.7 MB/s eta 0:00:00
Downloading charset_normalizer-3.3.0-cp39-cp39-manylinux_2_17_x86_64.manylinux2014_x86_64.whl (138 kB)
   ━━━━━━━━━━━━━━━━━━━━━━━━━━━━━━━━━━━━━━━━ 139.0/139.0 kB 19.1 MB/s eta 0:00:00
Downloading google_api_core-2.12.0-py3-none-any.whl (121 kB)
   ━━━━━━━━━━━━━━━━━━━━━━━━━━━━━━━━━━━━━━━━ 121.4/121.4 kB 13.3 MB/s eta 0:00:00
Downloading google_auth-2.23.2-py2.py3-none-any.whl (181 kB)
   ━━━━━━━━━━━━━━━━━━━━━━━━━━━━━━━━━━━━━━━━ 182.0/182.0 kB 18.5 MB/s eta 0:00:00
Downloading google_auth_httplib2-0.1.1-py2.py3-none-any.whl (9.3 kB)
Downloading google_cloud_core-2.3.3-py2.py3-none-any.whl (29 kB)
Downloading google_resumable_media-2.6.0-py2.py3-none-any.whl (80 kB)
   ━━━━━━━━━━━━━━━━━━━━━━━━━━━━━━━━━━━━━━━━ 80.3/80.3 kB 10.8 MB/s eta 0:00:00
Downloading googleapis_common_protos-1.60.0-py2.py3-none-any.whl (227 kB)
   ━━━━━━━━━━━━━━━━━━━━━━━━━━━━━━━━━━━━━━━━ 227.6/227.6 kB 23.2 MB/s eta 0:00:00
Downloading Markdown-3.4.4-py3-none-any.whl (94 kB)
   ━━━━━━━━━━━━━━━━━━━━━━━━━━━━━━━━━━━━━━━━ 94.2/94.2 kB 12.5 MB/s eta 0:00:00
Downloading platformdirs-3.11.0-py3-none-any.whl (17 kB)
Downloading proto_plus-1.22.3-py3-none-any.whl (48 kB)
   ━━━━━━━━━━━━━━━━━━━━━━━━━━━━━━━━━━━━━━━━ 48.1/48.1 kB 6.1 MB/s eta 0:00:00
Downloading pytz-2023.3.post1-py2.py3-none-any.whl (502 kB)
   ━━━━━━━━━━━━━━━━━━━━━━━━━━━━━━━━━━━━━━━━ 502.5/502.5 kB 40.0 MB/s eta 0:00:00
Downloading threadpoolctl-3.2.0-py3-none-any.whl (15 kB)
Downloading werkzeug-3.0.0-py3-none-any.whl (226 kB)
   ━━━━━━━━━━━━━━━━━━━━━━━━━━━━━━━━━━━━━━━━ 226.6/226.6 kB 24.6 MB/s eta 0:00:00
Downloading etils-1.5.0-py3-none-any.whl (140 kB)
   ━━━━━━━━━━━━━━━━━━━━━━━━━━━━━━━━━━━━━━━━ 140.3/140.3 kB 17.3 MB/s eta 0:00:00
Downloading fsspec-2023.9.2-py3-none-any.whl (173 kB)
   ━━━━━━━━━━━━━━━━━━━━━━━━━━━━━━━━━━━━━━━━ 173.4/173.4 kB 18.8 MB/s eta 0:00:00
Downloading importlib_resources-6.1.0-py3-none-any.whl (33 kB)
Downloading zipp-3.17.0-py3-none-any.whl (7.4 kB)
Downloading cachetools-5.3.1-py3-none-any.whl (9.3 kB)
Downloading importlib_metadata-6.8.0-py3-none-any.whl (22 kB)
Downloading MarkupSafe-2.1.3-cp39-cp39-manylinux_2_17_x86_64.manylinux2014_x86_64.whl (25 kB)
Building wheels for collected packages: fire, kaggle, promise
  Building wheel for fire (setup.py) ... done
  Created wheel for fire: filename=fire-0.5.0-py2.py3-none-any.whl size=116934 sha256=2328f2d95f966dcc2f49199de9bade6fd3210a7fe618db14e411247320d67b66
  Stored in directory: /root/.cache/pip/wheels/f7/f1/89/b9ea2bf8f80ec027a88fef1d354b3816b4d3d29530988972f6
  Building wheel for kaggle (setup.py) ... done
  Created wheel for kaggle: filename=kaggle-1.5.16-py3-none-any.whl size=110683 sha256=7a615e058df4ca48894be5c6985a1f2564d8cee8544b72aa87dd954103be9d54
  Stored in directory: /root/.cache/pip/wheels/d2/ed/a5/da3a0cfb13373d1ace41cafa4f2467d858c55c52473ba72799
  Building wheel for promise (setup.py) ... done
  Created wheel for promise: filename=promise-2.3-py3-none-any.whl size=21484 sha256=811f0aeba59b103cd1bb4c407109cc6927e9b6b96f3f2b28fa63318fbe5671ba
  Stored in directory: /root/.cache/pip/wheels/e1/e8/83/ddea66100678d139b14bc87692ece57c6a2a937956d2532608
Successfully built fire kaggle promise
Installing collected packages: webencodings, text-unidecode, tensorflow-estimator, tensorboard-plugin-wit, sentencepiece, pytz, py-cpuinfo, libclang, keras, gin-config, flatbuffers, dm-tree, dataclasses, zipp, wrapt, urllib3, uritemplate, tzdata, typing-extensions, typeguard, tqdm, toml, threadpoolctl, termcolor, tensorflow-io-gcs-filesystem, tensorboard-data-server, six, PyYAML, python-slugify, pyparsing, pycparser, pybind11, pyasn1, psutil, protobuf, platformdirs, pillow, oauthlib, numpy, MarkupSafe, lxml, llvmlite, kiwisolver, joblib, idna, grpcio, google-crc32c, gast, fsspec, etils, decorator, Cython, cycler, click, charset-normalizer, certifi, cachetools, audioread, attrs, absl-py, werkzeug, tf-slim, tensorflow-model-optimization, tensorflow-hub, scipy, rsa, requests, python-dateutil, pyasn1-modules, proto-plus, promise, packaging, opt-einsum, opencv-python-headless, numba, keras-preprocessing, importlib_resources, importlib-metadata, httplib2, h5py, googleapis-common-protos, google-resumable-media, google-pasta, fire, CFFI, bleach, astunparse, tensorflow-metadata, tensorflow-addons, soundfile, sounddevice, scikit-learn, resampy, requests-oauthlib, pooch, pandas, neural-structured-learning, matplotlib, markdown, kaggle, grpcio-status, google-auth, tflite-support, librosa, google-auth-oauthlib, google-auth-httplib2, google-api-core, array-record, tensorflow-datasets, tensorboard, google-cloud-core, google-api-python-client, tensorflow, google-cloud-bigquery, tf-models-official, tensorflowjs, scann, tflite-model-maker
Successfully installed CFFI-1.16.0 Cython-3.0.3 MarkupSafe-2.1.3 PyYAML-6.0.1 absl-py-1.4.0 array-record-0.4.1 astunparse-1.6.3 attrs-23.1.0 audioread-3.0.1 bleach-6.0.0 cachetools-5.3.1 certifi-2023.7.22 charset-normalizer-3.3.0 click-8.1.7 cycler-0.12.0 dataclasses-0.6 decorator-5.1.1 dm-tree-0.1.8 etils-1.5.0 fire-0.5.0 flatbuffers-23.5.26 fsspec-2023.9.2 gast-0.5.4 gin-config-0.5.0 google-api-core-2.12.0 google-api-python-client-2.102.0 google-auth-2.23.2 google-auth-httplib2-0.1.1 google-auth-oauthlib-0.4.6 google-cloud-bigquery-3.12.0 google-cloud-core-2.3.3 google-crc32c-1.5.0 google-pasta-0.2.0 google-resumable-media-2.6.0 googleapis-common-protos-1.60.0 grpcio-1.59.0 grpcio-status-1.48.2 h5py-3.9.0 httplib2-0.22.0 idna-3.4 importlib-metadata-6.8.0 importlib_resources-6.1.0 joblib-1.3.2 kaggle-1.5.16 keras-2.8.0 keras-preprocessing-1.1.2 kiwisolver-1.4.5 libclang-16.0.6 librosa-0.8.1 llvmlite-0.36.0 lxml-4.9.3 markdown-3.4.4 matplotlib-3.4.3 neural-structured-learning-1.4.0 numba-0.53.0 numpy-1.26.0 oauthlib-3.2.2 opencv-python-headless-4.8.1.78 opt-einsum-3.3.0 packaging-20.9 pandas-2.1.1 pillow-10.0.1 platformdirs-3.11.0 pooch-1.7.0 promise-2.3 proto-plus-1.22.3 protobuf-3.19.6 psutil-5.9.5 py-cpuinfo-9.0.0 pyasn1-0.5.0 pyasn1-modules-0.3.0 pybind11-2.11.1 pycparser-2.21 pyparsing-3.1.1 python-dateutil-2.8.2 python-slugify-8.0.1 pytz-2023.3.post1 requests-2.31.0 requests-oauthlib-1.3.1 resampy-0.4.2 rsa-4.9 scann-1.2.6 scikit-learn-1.3.1 scipy-1.11.3 sentencepiece-0.1.99 six-1.16.0 sounddevice-0.4.6 soundfile-0.12.1 tensorboard-2.8.0 tensorboard-data-server-0.6.1 tensorboard-plugin-wit-1.8.1 tensorflow-2.8.4 tensorflow-addons-0.21.0 tensorflow-datasets-4.9.0 tensorflow-estimator-2.8.0 tensorflow-hub-0.12.0 tensorflow-io-gcs-filesystem-0.34.0 tensorflow-metadata-1.13.0 tensorflow-model-optimization-0.7.5 tensorflowjs-3.18.0 termcolor-2.3.0 text-unidecode-1.3 tf-models-official-2.3.0 tf-slim-1.1.0 tflite-model-maker-0.4.2 tflite-support-0.4.4 threadpoolctl-3.2.0 toml-0.10.2 tqdm-4.66.1 typeguard-2.13.3 typing-extensions-4.8.0 tzdata-2023.3 uritemplate-4.1.1 urllib3-1.25.11 webencodings-0.5.1 werkzeug-3.0.0 wrapt-1.15.0 zipp-3.17.0
WARNING: Running pip as the 'root' user can result in broken permissions and conflicting behaviour with the system package manager. It is recommended to use a virtual environment instead: https://pip.pypa.io/warnings/venv

%%shell
eval "$(conda shell.bash hook)"
conda activate myenv
pip install ipykernel

     
Collecting ipykernel
  Obtaining dependency information for ipykernel from https://files.pythonhosted.org/packages/94/e3/70fb6e6bdd42cb0586d6b6680713997d2a9dc46642aec207ca04d0df80b8/ipykernel-6.25.2-py3-none-any.whl.metadata
  Downloading ipykernel-6.25.2-py3-none-any.whl.metadata (6.3 kB)
Collecting comm>=0.1.1 (from ipykernel)
  Obtaining dependency information for comm>=0.1.1 from https://files.pythonhosted.org/packages/fe/47/0133ac1b7dc476ed77710715e98077119b3d9bae56b13f6f9055e7da1c53/comm-0.1.4-py3-none-any.whl.metadata
  Downloading comm-0.1.4-py3-none-any.whl.metadata (4.2 kB)
Collecting debugpy>=1.6.5 (from ipykernel)
  Obtaining dependency information for debugpy>=1.6.5 from https://files.pythonhosted.org/packages/f7/79/6053a14f60e879b8cb1a42dadbbef8822603eadde79944c61e955309b622/debugpy-1.8.0-cp39-cp39-manylinux_2_17_x86_64.manylinux2014_x86_64.whl.metadata
  Downloading debugpy-1.8.0-cp39-cp39-manylinux_2_17_x86_64.manylinux2014_x86_64.whl.metadata (1.0 kB)
Collecting ipython>=7.23.1 (from ipykernel)
  Obtaining dependency information for ipython>=7.23.1 from https://files.pythonhosted.org/packages/ef/02/fc039fca3ec40a00f962eb6e9da45c507334b0650a3cb9facd38d234fb7a/ipython-8.16.1-py3-none-any.whl.metadata
  Downloading ipython-8.16.1-py3-none-any.whl.metadata (5.9 kB)
Collecting jupyter-client>=6.1.12 (from ipykernel)
  Obtaining dependency information for jupyter-client>=6.1.12 from https://files.pythonhosted.org/packages/73/d4/3c13d6a300be9e894561aea0b81e7aed46e8f98029b7d9369d90b1fc7ac5/jupyter_client-8.3.1-py3-none-any.whl.metadata
  Downloading jupyter_client-8.3.1-py3-none-any.whl.metadata (8.5 kB)
Collecting jupyter-core!=5.0.*,>=4.12 (from ipykernel)
  Obtaining dependency information for jupyter-core!=5.0.*,>=4.12 from https://files.pythonhosted.org/packages/bf/70/7b8dbda173b97be0ad40c5eb673bb1901cfeac29554d30cf9df49e59a694/jupyter_core-5.3.2-py3-none-any.whl.metadata
  Downloading jupyter_core-5.3.2-py3-none-any.whl.metadata (3.4 kB)
Collecting matplotlib-inline>=0.1 (from ipykernel)
  Downloading matplotlib_inline-0.1.6-py3-none-any.whl (9.4 kB)
Collecting nest-asyncio (from ipykernel)
  Obtaining dependency information for nest-asyncio from https://files.pythonhosted.org/packages/ab/d3/48c01d1944e0ee49fdc005bf518a68b0582d3bd201e5401664890b62a647/nest_asyncio-1.5.8-py3-none-any.whl.metadata
  Downloading nest_asyncio-1.5.8-py3-none-any.whl.metadata (2.8 kB)
Requirement already satisfied: packaging in /usr/local/envs/myenv/lib/python3.9/site-packages (from ipykernel) (20.9)
Requirement already satisfied: psutil in /usr/local/envs/myenv/lib/python3.9/site-packages (from ipykernel) (5.9.5)
Collecting pyzmq>=20 (from ipykernel)
  Obtaining dependency information for pyzmq>=20 from https://files.pythonhosted.org/packages/a2/e0/08605421a2ede5d87adbde9685599fa7e6af1df700c657759a1892ced942/pyzmq-25.1.1-cp39-cp39-manylinux_2_12_x86_64.manylinux2010_x86_64.whl.metadata
  Downloading pyzmq-25.1.1-cp39-cp39-manylinux_2_12_x86_64.manylinux2010_x86_64.whl.metadata (4.9 kB)
Collecting tornado>=6.1 (from ipykernel)
  Obtaining dependency information for tornado>=6.1 from https://files.pythonhosted.org/packages/66/a5/e6da56c03ff61200d5a43cfb75ab09316fc0836aa7ee26b4e9dcbfc3ae85/tornado-6.3.3-cp38-abi3-manylinux_2_5_x86_64.manylinux1_x86_64.manylinux_2_17_x86_64.manylinux2014_x86_64.whl.metadata
  Downloading tornado-6.3.3-cp38-abi3-manylinux_2_5_x86_64.manylinux1_x86_64.manylinux_2_17_x86_64.manylinux2014_x86_64.whl.metadata (2.5 kB)
Collecting traitlets>=5.4.0 (from ipykernel)
  Obtaining dependency information for traitlets>=5.4.0 from https://files.pythonhosted.org/packages/85/e9/d82415708306eb348fb16988c4697076119dfbfa266f17f74e514a23a723/traitlets-5.11.2-py3-none-any.whl.metadata
  Downloading traitlets-5.11.2-py3-none-any.whl.metadata (10 kB)
Collecting backcall (from ipython>=7.23.1->ipykernel)
  Downloading backcall-0.2.0-py2.py3-none-any.whl (11 kB)
Requirement already satisfied: decorator in /usr/local/envs/myenv/lib/python3.9/site-packages (from ipython>=7.23.1->ipykernel) (5.1.1)
Collecting jedi>=0.16 (from ipython>=7.23.1->ipykernel)
  Obtaining dependency information for jedi>=0.16 from https://files.pythonhosted.org/packages/20/9f/bc63f0f0737ad7a60800bfd472a4836661adae21f9c2535f3957b1e54ceb/jedi-0.19.1-py2.py3-none-any.whl.metadata
  Downloading jedi-0.19.1-py2.py3-none-any.whl.metadata (22 kB)
Collecting pickleshare (from ipython>=7.23.1->ipykernel)
  Downloading pickleshare-0.7.5-py2.py3-none-any.whl (6.9 kB)
Collecting prompt-toolkit!=3.0.37,<3.1.0,>=3.0.30 (from ipython>=7.23.1->ipykernel)
  Obtaining dependency information for prompt-toolkit!=3.0.37,<3.1.0,>=3.0.30 from https://files.pythonhosted.org/packages/a9/b4/ba77c84edf499877317225d7b7bc047a81f7c2eed9628eeb6bab0ac2e6c9/prompt_toolkit-3.0.39-py3-none-any.whl.metadata
  Downloading prompt_toolkit-3.0.39-py3-none-any.whl.metadata (6.4 kB)
Collecting pygments>=2.4.0 (from ipython>=7.23.1->ipykernel)
  Obtaining dependency information for pygments>=2.4.0 from https://files.pythonhosted.org/packages/43/88/29adf0b44ba6ac85045e63734ae0997d3c58d8b1a91c914d240828d0d73d/Pygments-2.16.1-py3-none-any.whl.metadata
  Downloading Pygments-2.16.1-py3-none-any.whl.metadata (2.5 kB)
Collecting stack-data (from ipython>=7.23.1->ipykernel)
  Obtaining dependency information for stack-data from https://files.pythonhosted.org/packages/f1/7b/ce1eafaf1a76852e2ec9b22edecf1daa58175c090266e9f6c64afcd81d91/stack_data-0.6.3-py3-none-any.whl.metadata
  Downloading stack_data-0.6.3-py3-none-any.whl.metadata (18 kB)
Requirement already satisfied: typing-extensions in /usr/local/envs/myenv/lib/python3.9/site-packages (from ipython>=7.23.1->ipykernel) (4.8.0)
Collecting exceptiongroup (from ipython>=7.23.1->ipykernel)
  Obtaining dependency information for exceptiongroup from https://files.pythonhosted.org/packages/ad/83/b71e58666f156a39fb29417e4c8ca4bc7400c0dd4ed9e8842ab54dc8c344/exceptiongroup-1.1.3-py3-none-any.whl.metadata
  Downloading exceptiongroup-1.1.3-py3-none-any.whl.metadata (6.1 kB)
Collecting pexpect>4.3 (from ipython>=7.23.1->ipykernel)
  Downloading pexpect-4.8.0-py2.py3-none-any.whl (59 kB)
     ━━━━━━━━━━━━━━━━━━━━━━━━━━━━━━━━━━━━━━━━ 59.0/59.0 kB 3.8 MB/s eta 0:00:00
Requirement already satisfied: importlib-metadata>=4.8.3 in /usr/local/envs/myenv/lib/python3.9/site-packages (from jupyter-client>=6.1.12->ipykernel) (6.8.0)
Requirement already satisfied: python-dateutil>=2.8.2 in /usr/local/envs/myenv/lib/python3.9/site-packages (from jupyter-client>=6.1.12->ipykernel) (2.8.2)
Requirement already satisfied: platformdirs>=2.5 in /usr/local/envs/myenv/lib/python3.9/site-packages (from jupyter-core!=5.0.*,>=4.12->ipykernel) (3.11.0)
Requirement already satisfied: pyparsing>=2.0.2 in /usr/local/envs/myenv/lib/python3.9/site-packages (from packaging->ipykernel) (3.1.1)
Requirement already satisfied: zipp>=0.5 in /usr/local/envs/myenv/lib/python3.9/site-packages (from importlib-metadata>=4.8.3->jupyter-client>=6.1.12->ipykernel) (3.17.0)
Collecting parso<0.9.0,>=0.8.3 (from jedi>=0.16->ipython>=7.23.1->ipykernel)
  Downloading parso-0.8.3-py2.py3-none-any.whl (100 kB)
     ━━━━━━━━━━━━━━━━━━━━━━━━━━━━━━━━━━━━━━ 100.8/100.8 kB 11.4 MB/s eta 0:00:00
Collecting ptyprocess>=0.5 (from pexpect>4.3->ipython>=7.23.1->ipykernel)
  Downloading ptyprocess-0.7.0-py2.py3-none-any.whl (13 kB)
Collecting wcwidth (from prompt-toolkit!=3.0.37,<3.1.0,>=3.0.30->ipython>=7.23.1->ipykernel)
  Obtaining dependency information for wcwidth from https://files.pythonhosted.org/packages/58/19/a9ce39f89cf58cf1e7ce01c8bb76ab7e2c7aadbc5a2136c3e192097344f5/wcwidth-0.2.8-py2.py3-none-any.whl.metadata
  Downloading wcwidth-0.2.8-py2.py3-none-any.whl.metadata (13 kB)
Requirement already satisfied: six>=1.5 in /usr/local/envs/myenv/lib/python3.9/site-packages (from python-dateutil>=2.8.2->jupyter-client>=6.1.12->ipykernel) (1.16.0)
Collecting executing>=1.2.0 (from stack-data->ipython>=7.23.1->ipykernel)
  Obtaining dependency information for executing>=1.2.0 from https://files.pythonhosted.org/packages/bb/3f/748594706233e45fd0e6fb57a2fbfe572485009c52b19919d161a0ae5d52/executing-2.0.0-py2.py3-none-any.whl.metadata
  Downloading executing-2.0.0-py2.py3-none-any.whl.metadata (9.0 kB)
Collecting asttokens>=2.1.0 (from stack-data->ipython>=7.23.1->ipykernel)
  Obtaining dependency information for asttokens>=2.1.0 from https://files.pythonhosted.org/packages/4f/25/adda9979586d9606300415c89ad0e4c5b53d72b92d2747a3c634701a6a02/asttokens-2.4.0-py2.py3-none-any.whl.metadata
  Downloading asttokens-2.4.0-py2.py3-none-any.whl.metadata (4.9 kB)
Collecting pure-eval (from stack-data->ipython>=7.23.1->ipykernel)
  Downloading pure_eval-0.2.2-py3-none-any.whl (11 kB)
Downloading ipykernel-6.25.2-py3-none-any.whl (154 kB)
   ━━━━━━━━━━━━━━━━━━━━━━━━━━━━━━━━━━━━━━━━ 154.2/154.2 kB 19.1 MB/s eta 0:00:00
Downloading comm-0.1.4-py3-none-any.whl (6.6 kB)
Downloading debugpy-1.8.0-cp39-cp39-manylinux_2_17_x86_64.manylinux2014_x86_64.whl (3.4 MB)
   ━━━━━━━━━━━━━━━━━━━━━━━━━━━━━━━━━━━━━━━━ 3.4/3.4 MB 56.9 MB/s eta 0:00:00
Downloading ipython-8.16.1-py3-none-any.whl (806 kB)
   ━━━━━━━━━━━━━━━━━━━━━━━━━━━━━━━━━━━━━━━━ 807.0/807.0 kB 66.1 MB/s eta 0:00:00
Downloading jupyter_client-8.3.1-py3-none-any.whl (104 kB)
   ━━━━━━━━━━━━━━━━━━━━━━━━━━━━━━━━━━━━━━━━ 104.1/104.1 kB 14.4 MB/s eta 0:00:00
Downloading jupyter_core-5.3.2-py3-none-any.whl (28 kB)
Downloading pyzmq-25.1.1-cp39-cp39-manylinux_2_12_x86_64.manylinux2010_x86_64.whl (1.1 MB)
   ━━━━━━━━━━━━━━━━━━━━━━━━━━━━━━━━━━━━━━━━ 1.1/1.1 MB 75.5 MB/s eta 0:00:00
Downloading tornado-6.3.3-cp38-abi3-manylinux_2_5_x86_64.manylinux1_x86_64.manylinux_2_17_x86_64.manylinux2014_x86_64.whl (427 kB)
   ━━━━━━━━━━━━━━━━━━━━━━━━━━━━━━━━━━━━━━━━ 427.7/427.7 kB 32.4 MB/s eta 0:00:00
Downloading traitlets-5.11.2-py3-none-any.whl (83 kB)
   ━━━━━━━━━━━━━━━━━━━━━━━━━━━━━━━━━━━━━━━━ 83.7/83.7 kB 10.0 MB/s eta 0:00:00
Downloading nest_asyncio-1.5.8-py3-none-any.whl (5.3 kB)
Downloading jedi-0.19.1-py2.py3-none-any.whl (1.6 MB)
   ━━━━━━━━━━━━━━━━━━━━━━━━━━━━━━━━━━━━━━━━ 1.6/1.6 MB 86.0 MB/s eta 0:00:00
Downloading prompt_toolkit-3.0.39-py3-none-any.whl (385 kB)
   ━━━━━━━━━━━━━━━━━━━━━━━━━━━━━━━━━━━━━━━━ 385.2/385.2 kB 41.3 MB/s eta 0:00:00
Downloading Pygments-2.16.1-py3-none-any.whl (1.2 MB)
   ━━━━━━━━━━━━━━━━━━━━━━━━━━━━━━━━━━━━━━━━ 1.2/1.2 MB 68.6 MB/s eta 0:00:00
Downloading exceptiongroup-1.1.3-py3-none-any.whl (14 kB)
Downloading stack_data-0.6.3-py3-none-any.whl (24 kB)
Downloading asttokens-2.4.0-py2.py3-none-any.whl (27 kB)
Downloading executing-2.0.0-py2.py3-none-any.whl (24 kB)
Downloading wcwidth-0.2.8-py2.py3-none-any.whl (31 kB)
Installing collected packages: wcwidth, pure-eval, ptyprocess, pickleshare, executing, backcall, traitlets, tornado, pyzmq, pygments, prompt-toolkit, pexpect, parso, nest-asyncio, exceptiongroup, debugpy, asttokens, stack-data, matplotlib-inline, jupyter-core, jedi, comm, jupyter-client, ipython, ipykernel
Successfully installed asttokens-2.4.0 backcall-0.2.0 comm-0.1.4 debugpy-1.8.0 exceptiongroup-1.1.3 executing-2.0.0 ipykernel-6.25.2 ipython-8.16.1 jedi-0.19.1 jupyter-client-8.3.1 jupyter-core-5.3.2 matplotlib-inline-0.1.6 nest-asyncio-1.5.8 parso-0.8.3 pexpect-4.8.0 pickleshare-0.7.5 prompt-toolkit-3.0.39 ptyprocess-0.7.0 pure-eval-0.2.2 pygments-2.16.1 pyzmq-25.1.1 stack-data-0.6.3 tornado-6.3.3 traitlets-5.11.2 wcwidth-0.2.8
WARNING: Running pip as the 'root' user can result in broken permissions and conflicting behaviour with the system package manager. It is recommended to use a virtual environment instead: https://pip.pypa.io/warnings/venv

%%shell
eval "$(conda shell.bash hook)"
conda activate myenv
pip install opencv-python
python --version

     
Collecting opencv-python
  Obtaining dependency information for opencv-python from https://files.pythonhosted.org/packages/b7/8a/b2f7e1a434d56bf1d7570fc5941ace0847404e1032d7f1f0b8fed896568d/opencv_python-4.8.1.78-cp37-abi3-manylinux_2_17_x86_64.manylinux2014_x86_64.whl.metadata
  Downloading opencv_python-4.8.1.78-cp37-abi3-manylinux_2_17_x86_64.manylinux2014_x86_64.whl.metadata (19 kB)
Requirement already satisfied: numpy>=1.17.0 in /usr/local/envs/myenv/lib/python3.9/site-packages (from opencv-python) (1.26.0)
Downloading opencv_python-4.8.1.78-cp37-abi3-manylinux_2_17_x86_64.manylinux2014_x86_64.whl (61.7 MB)
   ━━━━━━━━━━━━━━━━━━━━━━━━━━━━━━━━━━━━━━━━ 61.7/61.7 MB 10.7 MB/s eta 0:00:00
Installing collected packages: opencv-python
Successfully installed opencv-python-4.8.1.78
WARNING: Running pip as the 'root' user can result in broken permissions and conflicting behaviour with the system package manager. It is recommended to use a virtual environment instead: https://pip.pypa.io/warnings/venv
Python 3.9.18

%%shell
eval "$(conda shell.bash hook)"
conda activate myenv
pip install numpy==1.23.4
     
Collecting numpy==1.23.4
  Downloading numpy-1.23.4-cp39-cp39-manylinux_2_17_x86_64.manylinux2014_x86_64.whl (17.1 MB)
     ━━━━━━━━━━━━━━━━━━━━━━━━━━━━━━━━━━━━━━━━ 17.1/17.1 MB 80.5 MB/s eta 0:00:00
Installing collected packages: numpy
  Attempting uninstall: numpy
    Found existing installation: numpy 1.26.0
    Uninstalling numpy-1.26.0:
      Successfully uninstalled numpy-1.26.0
Successfully installed numpy-1.23.4
WARNING: Running pip as the 'root' user can result in broken permissions and conflicting behaviour with the system package manager. It is recommended to use a virtual environment instead: https://pip.pypa.io/warnings/venv

%%shell
eval "$(conda shell.bash hook)"
conda activate myenv
pip install pycocotools
     
Collecting pycocotools
  Obtaining dependency information for pycocotools from https://files.pythonhosted.org/packages/fe/83/ae272705f1b2e4efe0cd2e7e2de0233386ed578a2356c6409e3db268e2db/pycocotools-2.0.7-cp39-cp39-manylinux_2_17_x86_64.manylinux2014_x86_64.whl.metadata
  Downloading pycocotools-2.0.7-cp39-cp39-manylinux_2_17_x86_64.manylinux2014_x86_64.whl.metadata (1.1 kB)
Requirement already satisfied: matplotlib>=2.1.0 in /usr/local/envs/myenv/lib/python3.9/site-packages (from pycocotools) (3.4.3)
Requirement already satisfied: numpy in /usr/local/envs/myenv/lib/python3.9/site-packages (from pycocotools) (1.23.4)
Requirement already satisfied: cycler>=0.10 in /usr/local/envs/myenv/lib/python3.9/site-packages (from matplotlib>=2.1.0->pycocotools) (0.12.0)
Requirement already satisfied: kiwisolver>=1.0.1 in /usr/local/envs/myenv/lib/python3.9/site-packages (from matplotlib>=2.1.0->pycocotools) (1.4.5)
Requirement already satisfied: pillow>=6.2.0 in /usr/local/envs/myenv/lib/python3.9/site-packages (from matplotlib>=2.1.0->pycocotools) (10.0.1)
Requirement already satisfied: pyparsing>=2.2.1 in /usr/local/envs/myenv/lib/python3.9/site-packages (from matplotlib>=2.1.0->pycocotools) (3.1.1)
Requirement already satisfied: python-dateutil>=2.7 in /usr/local/envs/myenv/lib/python3.9/site-packages (from matplotlib>=2.1.0->pycocotools) (2.8.2)
Requirement already satisfied: six>=1.5 in /usr/local/envs/myenv/lib/python3.9/site-packages (from python-dateutil>=2.7->matplotlib>=2.1.0->pycocotools) (1.16.0)
Downloading pycocotools-2.0.7-cp39-cp39-manylinux_2_17_x86_64.manylinux2014_x86_64.whl (435 kB)
   ━━━━━━━━━━━━━━━━━━━━━━━━━━━━━━━━━━━━━━━━ 435.1/435.1 kB 8.8 MB/s eta 0:00:00
Installing collected packages: pycocotools
Successfully installed pycocotools-2.0.7
WARNING: Running pip as the 'root' user can result in broken permissions and conflicting behaviour with the system package manager. It is recommended to use a virtual environment instead: https://pip.pypa.io/warnings/venv

from google.colab import drive
drive.mount('/content/gdrive')
!ln -s /content/gdrive/My\ Drive/ /mydrive
!ls /mydrive

     
Mounted at /content/gdrive
'Colab Notebooks'   dist	     'My Drive'		  vehiclecount
 data.zip	    freedomtech.zip   testgooglemachine

!unzip /mydrive/freedomtech.zip

     
Archive:  /mydrive/freedomtech.zip
   creating: freedomtech/
   creating: freedomtech/train/
  inflating: freedomtech/train/raspberry pi_1.jpg  
  inflating: freedomtech/train/raspberry pi_1.xml  
  inflating: freedomtech/train/raspberry pi_10.jpg  
  inflating: freedomtech/train/raspberry pi_10.xml  
  inflating: freedomtech/train/raspberry pi_11.jpg  
  inflating: freedomtech/train/raspberry pi_11.xml  
  inflating: freedomtech/train/raspberry pi_12.jpg  
  inflating: freedomtech/train/raspberry pi_12.xml  
  inflating: freedomtech/train/raspberry pi_13.jpg  
  inflating: freedomtech/train/raspberry pi_13.xml  
  inflating: freedomtech/train/raspberry pi_14.jpg  
  inflating: freedomtech/train/raspberry pi_14.xml  
  inflating: freedomtech/train/raspberry pi_15.jpg  
  inflating: freedomtech/train/raspberry pi_15.xml  
  inflating: freedomtech/train/raspberry pi_16.jpg  
  inflating: freedomtech/train/raspberry pi_16.xml  
  inflating: freedomtech/train/raspberry pi_17.jpg  
  inflating: freedomtech/train/raspberry pi_17.xml  
  inflating: freedomtech/train/raspberry pi_18.jpg  
  inflating: freedomtech/train/raspberry pi_18.xml  
  inflating: freedomtech/train/raspberry pi_19.jpg  
  inflating: freedomtech/train/raspberry pi_19.xml  
  inflating: freedomtech/train/raspberry pi_2.jpg  
  inflating: freedomtech/train/raspberry pi_2.xml  
  inflating: freedomtech/train/raspberry pi_20.jpg  
  inflating: freedomtech/train/raspberry pi_20.xml  
  inflating: freedomtech/train/raspberry pi_21.jpg  
  inflating: freedomtech/train/raspberry pi_21.xml  
  inflating: freedomtech/train/raspberry pi_22.jpg  
  inflating: freedomtech/train/raspberry pi_22.xml  
  inflating: freedomtech/train/raspberry pi_23.jpg  
  inflating: freedomtech/train/raspberry pi_23.xml  
  inflating: freedomtech/train/raspberry pi_24.jpg  
  inflating: freedomtech/train/raspberry pi_24.xml  
  inflating: freedomtech/train/raspberry pi_25.jpg  
  inflating: freedomtech/train/raspberry pi_25.xml  
  inflating: freedomtech/train/raspberry pi_26.jpg  
  inflating: freedomtech/train/raspberry pi_26.xml  
  inflating: freedomtech/train/raspberry pi_27.jpg  
  inflating: freedomtech/train/raspberry pi_27.xml  
  inflating: freedomtech/train/raspberry pi_28.jpg  
  inflating: freedomtech/train/raspberry pi_28.xml  
  inflating: freedomtech/train/raspberry pi_29.jpg  
  inflating: freedomtech/train/raspberry pi_29.xml  
  inflating: freedomtech/train/raspberry pi_3.jpg  
  inflating: freedomtech/train/raspberry pi_3.xml  
  inflating: freedomtech/train/raspberry pi_30.jpg  
  inflating: freedomtech/train/raspberry pi_30.xml  
  inflating: freedomtech/train/raspberry pi_31.jpg  
  inflating: freedomtech/train/raspberry pi_31.xml  
  inflating: freedomtech/train/raspberry pi_32.jpg  
  inflating: freedomtech/train/raspberry pi_32.xml  
  inflating: freedomtech/train/raspberry pi_33.jpg  
  inflating: freedomtech/train/raspberry pi_33.xml  
  inflating: freedomtech/train/raspberry pi_34.jpg  
  inflating: freedomtech/train/raspberry pi_34.xml  
  inflating: freedomtech/train/raspberry pi_35.jpg  
  inflating: freedomtech/train/raspberry pi_35.xml  
  inflating: freedomtech/train/raspberry pi_36.jpg  
  inflating: freedomtech/train/raspberry pi_36.xml  
  inflating: freedomtech/train/raspberry pi_37.jpg  
  inflating: freedomtech/train/raspberry pi_37.xml  
  inflating: freedomtech/train/raspberry pi_38.jpg  
  inflating: freedomtech/train/raspberry pi_38.xml  
  inflating: freedomtech/train/raspberry pi_39.jpg  
  inflating: freedomtech/train/raspberry pi_39.xml  
  inflating: freedomtech/train/raspberry pi_4.jpg  
  inflating: freedomtech/train/raspberry pi_4.xml  
  inflating: freedomtech/train/raspberry pi_40.jpg  
  inflating: freedomtech/train/raspberry pi_40.xml  
  inflating: freedomtech/train/raspberry pi_41.jpg  
  inflating: freedomtech/train/raspberry pi_41.xml  
  inflating: freedomtech/train/raspberry pi_42.jpg  
  inflating: freedomtech/train/raspberry pi_42.xml  
  inflating: freedomtech/train/raspberry pi_43.jpg  
  inflating: freedomtech/train/raspberry pi_43.xml  
  inflating: freedomtech/train/raspberry pi_44.jpg  
  inflating: freedomtech/train/raspberry pi_44.xml  
  inflating: freedomtech/train/raspberry pi_45.jpg  
  inflating: freedomtech/train/raspberry pi_45.xml  
  inflating: freedomtech/train/raspberry pi_46.jpg  
  inflating: freedomtech/train/raspberry pi_46.xml  
  inflating: freedomtech/train/raspberry pi_47.jpg  
  inflating: freedomtech/train/raspberry pi_47.xml  
  inflating: freedomtech/train/raspberry pi_48.jpg  
  inflating: freedomtech/train/raspberry pi_48.xml  
  inflating: freedomtech/train/raspberry pi_49.jpg  
  inflating: freedomtech/train/raspberry pi_49.xml  
  inflating: freedomtech/train/raspberry pi_5.jpg  
  inflating: freedomtech/train/raspberry pi_5.xml  
  inflating: freedomtech/train/raspberry pi_50.jpg  
  inflating: freedomtech/train/raspberry pi_50.xml  
  inflating: freedomtech/train/raspberry pi_51.jpg  
  inflating: freedomtech/train/raspberry pi_51.xml  
  inflating: freedomtech/train/raspberry pi_52.jpg  
  inflating: freedomtech/train/raspberry pi_52.xml  
  inflating: freedomtech/train/raspberry pi_53.jpg  
  inflating: freedomtech/train/raspberry pi_53.xml  
  inflating: freedomtech/train/raspberry pi_54.jpg  
  inflating: freedomtech/train/raspberry pi_54.xml  
  inflating: freedomtech/train/raspberry pi_55.jpg  
  inflating: freedomtech/train/raspberry pi_55.xml  
  inflating: freedomtech/train/raspberry pi_56.jpg  
  inflating: freedomtech/train/raspberry pi_56.xml  
  inflating: freedomtech/train/raspberry pi_57.jpg  
  inflating: freedomtech/train/raspberry pi_57.xml  
  inflating: freedomtech/train/raspberry pi_58.jpg  
  inflating: freedomtech/train/raspberry pi_58.xml  
  inflating: freedomtech/train/raspberry pi_59.jpg  
  inflating: freedomtech/train/raspberry pi_59.xml  
  inflating: freedomtech/train/raspberry pi_6.jpg  
  inflating: freedomtech/train/raspberry pi_6.xml  
  inflating: freedomtech/train/raspberry pi_60.jpg  
  inflating: freedomtech/train/raspberry pi_60.xml  
  inflating: freedomtech/train/raspberry pi_61.jpg  
  inflating: freedomtech/train/raspberry pi_61.xml  
  inflating: freedomtech/train/raspberry pi_62.jpg  
  inflating: freedomtech/train/raspberry pi_62.xml  
  inflating: freedomtech/train/raspberry pi_63.jpg  
  inflating: freedomtech/train/raspberry pi_63.xml  
  inflating: freedomtech/train/raspberry pi_64.jpg  
  inflating: freedomtech/train/raspberry pi_64.xml  
  inflating: freedomtech/train/raspberry pi_65.jpg  
  inflating: freedomtech/train/raspberry pi_65.xml  
  inflating: freedomtech/train/raspberry pi_66.jpg  
  inflating: freedomtech/train/raspberry pi_66.xml  
  inflating: freedomtech/train/raspberry pi_67.jpg  
  inflating: freedomtech/train/raspberry pi_67.xml  
  inflating: freedomtech/train/raspberry pi_68.jpg  
  inflating: freedomtech/train/raspberry pi_68.xml  
  inflating: freedomtech/train/raspberry pi_69.jpg  
  inflating: freedomtech/train/raspberry pi_69.xml  
  inflating: freedomtech/train/raspberry pi_7.jpg  
  inflating: freedomtech/train/raspberry pi_7.xml  
  inflating: freedomtech/train/raspberry pi_70.jpg  
  inflating: freedomtech/train/raspberry pi_70.xml  
  inflating: freedomtech/train/raspberry pi_71.jpg  
  inflating: freedomtech/train/raspberry pi_71.xml  
  inflating: freedomtech/train/raspberry pi_72.jpg  
  inflating: freedomtech/train/raspberry pi_72.xml  
  inflating: freedomtech/train/raspberry pi_73.jpg  
  inflating: freedomtech/train/raspberry pi_73.xml  
  inflating: freedomtech/train/raspberry pi_74.jpg  
  inflating: freedomtech/train/raspberry pi_74.xml  
  inflating: freedomtech/train/raspberry pi_75.jpg  
  inflating: freedomtech/train/raspberry pi_75.xml  
  inflating: freedomtech/train/raspberry pi_76.jpg  
  inflating: freedomtech/train/raspberry pi_76.xml  
  inflating: freedomtech/train/raspberry pi_77.jpg  
  inflating: freedomtech/train/raspberry pi_77.xml  
  inflating: freedomtech/train/raspberry pi_78.jpg  
  inflating: freedomtech/train/raspberry pi_78.xml  
  inflating: freedomtech/train/raspberry pi_79.jpg  
  inflating: freedomtech/train/raspberry pi_79.xml  
  inflating: freedomtech/train/raspberry pi_8.jpg  
  inflating: freedomtech/train/raspberry pi_8.xml  
  inflating: freedomtech/train/raspberry pi_80.jpg  
  inflating: freedomtech/train/raspberry pi_80.xml  
  inflating: freedomtech/train/raspberry pi_81.jpg  
  inflating: freedomtech/train/raspberry pi_81.xml  
  inflating: freedomtech/train/raspberry pi_82.jpg  
  inflating: freedomtech/train/raspberry pi_82.xml  
  inflating: freedomtech/train/raspberry pi_83.jpg  
  inflating: freedomtech/train/raspberry pi_83.xml  
  inflating: freedomtech/train/raspberry pi_9.jpg  
  inflating: freedomtech/train/raspberry pi_9.xml  
   creating: freedomtech/validate/
  inflating: freedomtech/validate/raspberry pi_1.jpg  
  inflating: freedomtech/validate/raspberry pi_1.xml  
  inflating: freedomtech/validate/raspberry pi_10.jpg  
  inflating: freedomtech/validate/raspberry pi_10.xml  
  inflating: freedomtech/validate/raspberry pi_11.jpg  
  inflating: freedomtech/validate/raspberry pi_11.xml  
  inflating: freedomtech/validate/raspberry pi_12.jpg  
  inflating: freedomtech/validate/raspberry pi_12.xml  
  inflating: freedomtech/validate/raspberry pi_13.jpg  
  inflating: freedomtech/validate/raspberry pi_13.xml  
  inflating: freedomtech/validate/raspberry pi_14.jpg  
  inflating: freedomtech/validate/raspberry pi_14.xml  
  inflating: freedomtech/validate/raspberry pi_15.jpg  
  inflating: freedomtech/validate/raspberry pi_15.xml  
  inflating: freedomtech/validate/raspberry pi_16.jpg  
  inflating: freedomtech/validate/raspberry pi_16.xml  
  inflating: freedomtech/validate/raspberry pi_17.jpg  
  inflating: freedomtech/validate/raspberry pi_17.xml  
  inflating: freedomtech/validate/raspberry pi_18.jpg  
  inflating: freedomtech/validate/raspberry pi_18.xml  
  inflating: freedomtech/validate/raspberry pi_19.jpg  
  inflating: freedomtech/validate/raspberry pi_19.xml  
  inflating: freedomtech/validate/raspberry pi_2.jpg  
  inflating: freedomtech/validate/raspberry pi_2.xml  
  inflating: freedomtech/validate/raspberry pi_20.jpg  
  inflating: freedomtech/validate/raspberry pi_20.xml  
  inflating: freedomtech/validate/raspberry pi_21.jpg  
  inflating: freedomtech/validate/raspberry pi_21.xml  
  inflating: freedomtech/validate/raspberry pi_22.jpg  
  inflating: freedomtech/validate/raspberry pi_22.xml  
  inflating: freedomtech/validate/raspberry pi_23.jpg  
  inflating: freedomtech/validate/raspberry pi_23.xml  
  inflating: freedomtech/validate/raspberry pi_24.jpg  
  inflating: freedomtech/validate/raspberry pi_24.xml  
  inflating: freedomtech/validate/raspberry pi_25.jpg  
  inflating: freedomtech/validate/raspberry pi_25.xml  
  inflating: freedomtech/validate/raspberry pi_26.jpg  
  inflating: freedomtech/validate/raspberry pi_26.xml  
  inflating: freedomtech/validate/raspberry pi_27.jpg  
  inflating: freedomtech/validate/raspberry pi_27.xml  
  inflating: freedomtech/validate/raspberry pi_28.jpg  
  inflating: freedomtech/validate/raspberry pi_28.xml  
  inflating: freedomtech/validate/raspberry pi_29.jpg  
  inflating: freedomtech/validate/raspberry pi_29.xml  
  inflating: freedomtech/validate/raspberry pi_3.jpg  
  inflating: freedomtech/validate/raspberry pi_3.xml  
  inflating: freedomtech/validate/raspberry pi_30.jpg  
  inflating: freedomtech/validate/raspberry pi_30.xml  
  inflating: freedomtech/validate/raspberry pi_31.jpg  
  inflating: freedomtech/validate/raspberry pi_31.xml  
  inflating: freedomtech/validate/raspberry pi_32.jpg  
  inflating: freedomtech/validate/raspberry pi_32.xml  
  inflating: freedomtech/validate/raspberry pi_33.jpg  
  inflating: freedomtech/validate/raspberry pi_33.xml  
  inflating: freedomtech/validate/raspberry pi_34.jpg  
  inflating: freedomtech/validate/raspberry pi_34.xml  
  inflating: freedomtech/validate/raspberry pi_35.jpg  
  inflating: freedomtech/validate/raspberry pi_35.xml  
  inflating: freedomtech/validate/raspberry pi_36.jpg  
  inflating: freedomtech/validate/raspberry pi_36.xml  
  inflating: freedomtech/validate/raspberry pi_37.jpg  
  inflating: freedomtech/validate/raspberry pi_37.xml  
  inflating: freedomtech/validate/raspberry pi_38.jpg  
  inflating: freedomtech/validate/raspberry pi_38.xml  
  inflating: freedomtech/validate/raspberry pi_39.jpg  
  inflating: freedomtech/validate/raspberry pi_39.xml  
  inflating: freedomtech/validate/raspberry pi_4.jpg  
  inflating: freedomtech/validate/raspberry pi_4.xml  
  inflating: freedomtech/validate/raspberry pi_40.jpg  
  inflating: freedomtech/validate/raspberry pi_40.xml  
  inflating: freedomtech/validate/raspberry pi_41.jpg  
  inflating: freedomtech/validate/raspberry pi_41.xml  
  inflating: freedomtech/validate/raspberry pi_42.jpg  
  inflating: freedomtech/validate/raspberry pi_42.xml  
  inflating: freedomtech/validate/raspberry pi_43.jpg  
  inflating: freedomtech/validate/raspberry pi_43.xml  
  inflating: freedomtech/validate/raspberry pi_44.jpg  
  inflating: freedomtech/validate/raspberry pi_44.xml  
  inflating: freedomtech/validate/raspberry pi_45.jpg  
  inflating: freedomtech/validate/raspberry pi_45.xml  
  inflating: freedomtech/validate/raspberry pi_46.jpg  
  inflating: freedomtech/validate/raspberry pi_46.xml  
  inflating: freedomtech/validate/raspberry pi_47.jpg  
  inflating: freedomtech/validate/raspberry pi_47.xml  
  inflating: freedomtech/validate/raspberry pi_48.jpg  
  inflating: freedomtech/validate/raspberry pi_48.xml  
  inflating: freedomtech/validate/raspberry pi_49.jpg  
  inflating: freedomtech/validate/raspberry pi_49.xml  
  inflating: freedomtech/validate/raspberry pi_5.jpg  
  inflating: freedomtech/validate/raspberry pi_5.xml  
  inflating: freedomtech/validate/raspberry pi_50.jpg  
  inflating: freedomtech/validate/raspberry pi_50.xml  
  inflating: freedomtech/validate/raspberry pi_51.jpg  
  inflating: freedomtech/validate/raspberry pi_51.xml  
  inflating: freedomtech/validate/raspberry pi_52.jpg  
  inflating: freedomtech/validate/raspberry pi_52.xml  
  inflating: freedomtech/validate/raspberry pi_53.jpg  
  inflating: freedomtech/validate/raspberry pi_53.xml  
  inflating: freedomtech/validate/raspberry pi_54.jpg  
  inflating: freedomtech/validate/raspberry pi_54.xml  
  inflating: freedomtech/validate/raspberry pi_55.jpg  
  inflating: freedomtech/validate/raspberry pi_55.xml  
  inflating: freedomtech/validate/raspberry pi_56.jpg  
  inflating: freedomtech/validate/raspberry pi_56.xml  
  inflating: freedomtech/validate/raspberry pi_57.jpg  
  inflating: freedomtech/validate/raspberry pi_57.xml  
  inflating: freedomtech/validate/raspberry pi_58.jpg  
  inflating: freedomtech/validate/raspberry pi_58.xml  
  inflating: freedomtech/validate/raspberry pi_59.jpg  
  inflating: freedomtech/validate/raspberry pi_59.xml  
  inflating: freedomtech/validate/raspberry pi_6.jpg  
  inflating: freedomtech/validate/raspberry pi_6.xml  
  inflating: freedomtech/validate/raspberry pi_60.jpg  
  inflating: freedomtech/validate/raspberry pi_60.xml  
  inflating: freedomtech/validate/raspberry pi_61.jpg  
  inflating: freedomtech/validate/raspberry pi_61.xml  
  inflating: freedomtech/validate/raspberry pi_62.jpg  
  inflating: freedomtech/validate/raspberry pi_62.xml  
  inflating: freedomtech/validate/raspberry pi_63.jpg  
  inflating: freedomtech/validate/raspberry pi_63.xml  
  inflating: freedomtech/validate/raspberry pi_64.jpg  
  inflating: freedomtech/validate/raspberry pi_64.xml  
  inflating: freedomtech/validate/raspberry pi_65.jpg  
  inflating: freedomtech/validate/raspberry pi_65.xml  
  inflating: freedomtech/validate/raspberry pi_66.jpg  
  inflating: freedomtech/validate/raspberry pi_66.xml  
  inflating: freedomtech/validate/raspberry pi_67.jpg  
  inflating: freedomtech/validate/raspberry pi_67.xml  
  inflating: freedomtech/validate/raspberry pi_68.jpg  
  inflating: freedomtech/validate/raspberry pi_68.xml  
  inflating: freedomtech/validate/raspberry pi_69.jpg  
  inflating: freedomtech/validate/raspberry pi_69.xml  
  inflating: freedomtech/validate/raspberry pi_7.jpg  
  inflating: freedomtech/validate/raspberry pi_7.xml  
  inflating: freedomtech/validate/raspberry pi_70.jpg  
  inflating: freedomtech/validate/raspberry pi_70.xml  
  inflating: freedomtech/validate/raspberry pi_71.jpg  
  inflating: freedomtech/validate/raspberry pi_71.xml  
  inflating: freedomtech/validate/raspberry pi_72.jpg  
  inflating: freedomtech/validate/raspberry pi_72.xml  
  inflating: freedomtech/validate/raspberry pi_73.jpg  
  inflating: freedomtech/validate/raspberry pi_73.xml  
  inflating: freedomtech/validate/raspberry pi_74.jpg  
  inflating: freedomtech/validate/raspberry pi_74.xml  
  inflating: freedomtech/validate/raspberry pi_75.jpg  
  inflating: freedomtech/validate/raspberry pi_75.xml  
  inflating: freedomtech/validate/raspberry pi_76.jpg  
  inflating: freedomtech/validate/raspberry pi_76.xml  
  inflating: freedomtech/validate/raspberry pi_77.jpg  
  inflating: freedomtech/validate/raspberry pi_77.xml  
  inflating: freedomtech/validate/raspberry pi_78.jpg  
  inflating: freedomtech/validate/raspberry pi_78.xml  
  inflating: freedomtech/validate/raspberry pi_79.jpg  
  inflating: freedomtech/validate/raspberry pi_79.xml  
  inflating: freedomtech/validate/raspberry pi_8.jpg  
  inflating: freedomtech/validate/raspberry pi_8.xml  
  inflating: freedomtech/validate/raspberry pi_80.jpg  
  inflating: freedomtech/validate/raspberry pi_80.xml  
  inflating: freedomtech/validate/raspberry pi_81.jpg  
  inflating: freedomtech/validate/raspberry pi_81.xml  
  inflating: freedomtech/validate/raspberry pi_82.jpg  
  inflating: freedomtech/validate/raspberry pi_82.xml  
  inflating: freedomtech/validate/raspberry pi_83.jpg  
  inflating: freedomtech/validate/raspberry pi_83.xml  
  inflating: freedomtech/validate/raspberry pi_9.jpg  
  inflating: freedomtech/validate/raspberry pi_9.xml  

%%shell
eval "$(conda shell.bash hook)"
conda activate myenv
python /content/train.py
     
